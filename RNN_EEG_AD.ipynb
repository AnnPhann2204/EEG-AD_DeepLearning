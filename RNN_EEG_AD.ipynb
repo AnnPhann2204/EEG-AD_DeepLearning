{
  "cells": [
    {
      "cell_type": "markdown",
      "metadata": {
        "id": "view-in-github",
        "colab_type": "text"
      },
      "source": [
        "<a href=\"https://colab.research.google.com/github/AnnPhann2204/EEG-AD_DeepLearning/blob/main/RNN_EEG_AD.ipynb\" target=\"_parent\"><img src=\"https://colab.research.google.com/assets/colab-badge.svg\" alt=\"Open In Colab\"/></a>"
      ]
    },
    {
      "cell_type": "code",
      "execution_count": 1,
      "metadata": {
        "colab": {
          "base_uri": "https://localhost:8080/"
        },
        "id": "eAT6U5gRkpxp",
        "outputId": "2d7f6f5a-f8a4-4a9d-fa45-fa455406649b"
      },
      "outputs": [
        {
          "output_type": "stream",
          "name": "stdout",
          "text": [
            "fatal: destination path 'rnn-eeg-ad' already exists and is not an empty directory.\n"
          ]
        }
      ],
      "source": [
        "!git clone https://github.com/MAlessandrini-Univpm/rnn-eeg-ad.git"
      ]
    },
    {
      "cell_type": "code",
      "execution_count": 2,
      "metadata": {
        "colab": {
          "base_uri": "https://localhost:8080/"
        },
        "id": "asyzcFE3qWY1",
        "outputId": "bbac7d4c-a5a4-4a16-edb8-4c5b2d4b360e"
      },
      "outputs": [
        {
          "output_type": "stream",
          "name": "stdout",
          "text": [
            "/content/rnn-eeg-ad\n"
          ]
        }
      ],
      "source": [
        "%cd rnn-eeg-ad"
      ]
    },
    {
      "cell_type": "code",
      "execution_count": 3,
      "metadata": {
        "colab": {
          "base_uri": "https://localhost:8080/"
        },
        "id": "Spf-AOI_qaJ2",
        "outputId": "b2ed5d8f-143f-4285-f431-b458b6c4535e"
      },
      "outputs": [
        {
          "output_type": "stream",
          "name": "stdout",
          "text": [
            "20241015-144311.txt  20241015-203216.txt\t       eeg2\t\t    README.md\n",
            "20241015-150812.txt  batch_cross_val.py\t\t       LICENSE\t\t    requirements.txt\n",
            "20241015-153912.txt  batch_spikes.py\t\t       logs\t\t    rnn-eeg-ad\n",
            "20241015-160735.txt  batch_test.py\t\t       model.pdf\t    rnn_eeg_ad.py\n",
            "20241015-164305.txt  confusion_matrix.eps\t       mspca.m\t\t    r_pca.py\n",
            "20241015-172120.txt  confusion_matrix_ICA.png\t       mu_golden_search.py\n",
            "20241015-192827.txt  confusion_matrix_withoutRPCA.eps  parse_log.py\n",
            "20241015-195036.txt  confusion_matrix_withoutRPCA.png  __pycache__\n"
          ]
        }
      ],
      "source": [
        "!ls"
      ]
    },
    {
      "cell_type": "code",
      "execution_count": 4,
      "metadata": {
        "colab": {
          "base_uri": "https://localhost:8080/"
        },
        "id": "GqFcK04ne_TT",
        "outputId": "6878fcde-fc80-4475-d5ef-3d1e5e0f83cf"
      },
      "outputs": [
        {
          "output_type": "stream",
          "name": "stdout",
          "text": [
            "Requirement already satisfied: mne in /usr/local/lib/python3.10/dist-packages (1.8.0)\n",
            "Requirement already satisfied: decorator in /usr/local/lib/python3.10/dist-packages (from mne) (4.4.2)\n",
            "Requirement already satisfied: jinja2 in /usr/local/lib/python3.10/dist-packages (from mne) (3.1.4)\n",
            "Requirement already satisfied: lazy-loader>=0.3 in /usr/local/lib/python3.10/dist-packages (from mne) (0.4)\n",
            "Requirement already satisfied: matplotlib>=3.6 in /usr/local/lib/python3.10/dist-packages (from mne) (3.7.1)\n",
            "Requirement already satisfied: numpy<3,>=1.23 in /usr/local/lib/python3.10/dist-packages (from mne) (1.26.4)\n",
            "Requirement already satisfied: packaging in /usr/local/lib/python3.10/dist-packages (from mne) (24.1)\n",
            "Requirement already satisfied: pooch>=1.5 in /usr/local/lib/python3.10/dist-packages (from mne) (1.8.2)\n",
            "Requirement already satisfied: scipy>=1.9 in /usr/local/lib/python3.10/dist-packages (from mne) (1.13.1)\n",
            "Requirement already satisfied: tqdm in /usr/local/lib/python3.10/dist-packages (from mne) (4.66.5)\n",
            "Requirement already satisfied: contourpy>=1.0.1 in /usr/local/lib/python3.10/dist-packages (from matplotlib>=3.6->mne) (1.3.0)\n",
            "Requirement already satisfied: cycler>=0.10 in /usr/local/lib/python3.10/dist-packages (from matplotlib>=3.6->mne) (0.12.1)\n",
            "Requirement already satisfied: fonttools>=4.22.0 in /usr/local/lib/python3.10/dist-packages (from matplotlib>=3.6->mne) (4.54.1)\n",
            "Requirement already satisfied: kiwisolver>=1.0.1 in /usr/local/lib/python3.10/dist-packages (from matplotlib>=3.6->mne) (1.4.7)\n",
            "Requirement already satisfied: pillow>=6.2.0 in /usr/local/lib/python3.10/dist-packages (from matplotlib>=3.6->mne) (10.4.0)\n",
            "Requirement already satisfied: pyparsing>=2.3.1 in /usr/local/lib/python3.10/dist-packages (from matplotlib>=3.6->mne) (3.1.4)\n",
            "Requirement already satisfied: python-dateutil>=2.7 in /usr/local/lib/python3.10/dist-packages (from matplotlib>=3.6->mne) (2.8.2)\n",
            "Requirement already satisfied: platformdirs>=2.5.0 in /usr/local/lib/python3.10/dist-packages (from pooch>=1.5->mne) (4.3.6)\n",
            "Requirement already satisfied: requests>=2.19.0 in /usr/local/lib/python3.10/dist-packages (from pooch>=1.5->mne) (2.32.3)\n",
            "Requirement already satisfied: MarkupSafe>=2.0 in /usr/local/lib/python3.10/dist-packages (from jinja2->mne) (3.0.1)\n",
            "Requirement already satisfied: six>=1.5 in /usr/local/lib/python3.10/dist-packages (from python-dateutil>=2.7->matplotlib>=3.6->mne) (1.16.0)\n",
            "Requirement already satisfied: charset-normalizer<4,>=2 in /usr/local/lib/python3.10/dist-packages (from requests>=2.19.0->pooch>=1.5->mne) (3.4.0)\n",
            "Requirement already satisfied: idna<4,>=2.5 in /usr/local/lib/python3.10/dist-packages (from requests>=2.19.0->pooch>=1.5->mne) (3.10)\n",
            "Requirement already satisfied: urllib3<3,>=1.21.1 in /usr/local/lib/python3.10/dist-packages (from requests>=2.19.0->pooch>=1.5->mne) (2.2.3)\n",
            "Requirement already satisfied: certifi>=2017.4.17 in /usr/local/lib/python3.10/dist-packages (from requests>=2.19.0->pooch>=1.5->mne) (2024.8.30)\n"
          ]
        }
      ],
      "source": [
        "!pip install mne"
      ]
    },
    {
      "cell_type": "code",
      "execution_count": 5,
      "metadata": {
        "id": "kkrvYYv3fD4L"
      },
      "outputs": [],
      "source": [
        "import mne"
      ]
    },
    {
      "cell_type": "code",
      "execution_count": 6,
      "metadata": {
        "colab": {
          "base_uri": "https://localhost:8080/"
        },
        "id": "VJ_5k_y9SmV2",
        "outputId": "748fdbc5-3c96-4bd0-9a4b-8d2500e696bc"
      },
      "outputs": [
        {
          "output_type": "stream",
          "name": "stdout",
          "text": [
            "['eeg']\n",
            "[[ 24.88347878  24.88347878  24.88347878 ...  25.63371875  10.00371951\n",
            "   -2.25019989]\n",
            " [ 24.88347878  24.88347878  24.88347878 ...  21.38235895  26.38395871\n",
            "   19.38171905]\n",
            " [ 24.88347878  24.88347878  24.88347878 ...  19.13163906   0.25059998\n",
            "  -21.38131896]\n",
            " ...\n",
            " [ 24.88347878  24.88347878  24.88347878 ...   3.00147985   2.75139986\n",
            "   -9.12739956]\n",
            " [ 24.88347878  24.88347878  24.88347878 ...  31.63563845   6.0024397\n",
            "  -18.25531911]\n",
            " [ 24.88347878  24.88347878  24.88347878 ...  15.13035926   7.75299962\n",
            "   -2.50027988]]\n"
          ]
        }
      ],
      "source": [
        "import numpy as np\n",
        "\n",
        "# Load the .npz file from the 'eeg2' folder\n",
        "data = np.load('eeg2/S01_N.npz')\n",
        "\n",
        "# List all arrays stored in the .npz file\n",
        "print(data.files)\n",
        "\n",
        "# Access the 'eeg' array (or other arrays listed)\n",
        "eeg_array = data['eeg']\n",
        "print(eeg_array)\n"
      ]
    },
    {
      "cell_type": "code",
      "execution_count": 7,
      "metadata": {
        "colab": {
          "base_uri": "https://localhost:8080/"
        },
        "id": "0GdTSOk6VxDv",
        "outputId": "df01a821-2f0b-45ef-c500-d121e91d6fbd"
      },
      "outputs": [
        {
          "output_type": "execute_result",
          "data": {
            "text/plain": [
              "(16, 111232)"
            ]
          },
          "metadata": {},
          "execution_count": 7
        }
      ],
      "source": [
        "eeg_array.shape"
      ]
    },
    {
      "cell_type": "code",
      "execution_count": 8,
      "metadata": {
        "colab": {
          "base_uri": "https://localhost:8080/"
        },
        "id": "SMZl0zpH1sUd",
        "outputId": "1f7f96f0-dec8-4af5-c41f-70ac0cb0e9aa"
      },
      "outputs": [
        {
          "output_type": "stream",
          "name": "stdout",
          "text": [
            "Tf Keras: 3.4.1\n",
            "TensorFlow: 2.17.0\n",
            "GPU device: \n"
          ]
        }
      ],
      "source": [
        "import numpy as np\n",
        "import tensorflow as tf\n",
        "from tensorflow import keras\n",
        "from tensorflow.keras.layers import LSTM, Dense, BatchNormalization, Softmax, Dropout, Bidirectional\n",
        "import scipy.io  # to load/save MAT files\n",
        "import time\n",
        "import datetime\n",
        "from matplotlib import pyplot as plt\n",
        "from sklearn.preprocessing import StandardScaler, MinMaxScaler\n",
        "import sklearn.decomposition\n",
        "import sklearn.model_selection\n",
        "import sys\n",
        "import os\n",
        "# %matplotlib inline\n",
        "# %load_ext tensorboard\n",
        "\n",
        "tf.random.set_seed(42)\n",
        "np.random.seed(42)\n",
        "\n",
        "print('Tf Keras:', keras.__version__)\n",
        "print('TensorFlow:', tf.__version__)\n",
        "print('GPU device:', tf.test.gpu_device_name())\n",
        "\n",
        "if 'google.colab' in sys.modules:  # try to detect if we're running in colab or locally\n",
        "  # working_dir = '/content/drive/MyDrive/Colab Notebooks'\n",
        "  working_dir = '/content/rnn-eeg-ad'\n",
        "#   %cp '/content/drive/MyDrive/Colab Notebooks/r_pca.py' .\n",
        "else:\n",
        "  working_dir = '.'\n",
        "\n",
        "import r_pca\n",
        "multiscale_pca = False  # Compute MSPCA before PCA\n",
        "log_dir_base = working_dir + '/logs/fit'\n",
        "num_classes = 2"
      ]
    },
    {
      "cell_type": "code",
      "execution_count": 9,
      "metadata": {
        "id": "WR9vhF_O1pyS"
      },
      "outputs": [],
      "source": [
        "\n",
        "def create_dataset(window, overlap, decimation_factor = 0):\n",
        "  # Create the input and target data from dataset,\n",
        "  # according to window and overlap\n",
        "  # new dataset 4 dec 2021\n",
        "  # 15 N, 20 AD (resulting indexes: N = 0..14, AD = 15..34)\n",
        "  # 16 Common signals: ['EEG Fp1', 'EEG Fp2', 'EEG F7', 'EEG F3', 'EEG F4', 'EEG F8', 'EEG T3', 'EEG C3', 'EEG C4', 'EEG T4', 'EEG T5', 'EEG P3', 'EEG P4', 'EEG T6', 'EEG O1', 'EEG O2']\n",
        "\n",
        "  tf.random.set_seed(42)\n",
        "  np.random.seed(42)\n",
        "  dataset_dir = working_dir + '/eeg2'\n",
        "  subj_list = tuple((f'{i:02d}', 'N') for i in range(1, 16)) + tuple((f'{i:02d}', 'AD') for i in range(1, 21))\n",
        "  print(subj_list)\n",
        "  num_columns = 16\n",
        "\n",
        "  x_data = np.empty((0, window, num_columns))\n",
        "  y_data = np.empty((0, 1))  # labels\n",
        "  subj_inputs = []  # number of inputs for every subject\n",
        "  print('\\n### creating dataset')\n",
        "  tot_rows = 0\n",
        "  for subject in subj_list:\n",
        "    subj_inputs.append(0)\n",
        "    category = ('N', 'AD').index(subject[1])\n",
        "    eeg = np.load(f'{dataset_dir}/S{subject[0]}_{subject[1]}.npz')['eeg'].T\n",
        "    print(f\"Subject: {subject}, EEG shape: {eeg.shape}\")\n",
        "    if spikes: eeg = set_holes(eeg, spikes)\n",
        "    #scaler = MinMaxScaler(feature_range=(-1, 1))\n",
        "    scaler = StandardScaler()\n",
        "    eeg = scaler.fit_transform(eeg)\n",
        "    assert(eeg.shape[1] == num_columns)\n",
        "    tot_rows += len(eeg)\n",
        "    # decimation (optional)\n",
        "    if decimation_factor:\n",
        "      eeg2 = np.empty((eeg.shape[0] // decimation_factor, eeg.shape[1])) #downsampling\n",
        "      for col in range(0, num_columns):\n",
        "        #tmp = scipy.signal.decimate(fusion[:, col], decimation_factor)\n",
        "        tmp = eeg[:, col][::decimation_factor]  # simpler method\n",
        "        eeg2[:, col] = tmp[:len(eeg2)]\n",
        "      eeg = eeg2\n",
        "    # windowing\n",
        "    # compute number of windows (lazy way)\n",
        "    i = 0\n",
        "    num_w = 0\n",
        "    while i + window  <= len(eeg):\n",
        "      i += (window - overlap)\n",
        "      num_w += 1\n",
        "    # compute actual windows\n",
        "    x_data_part = np.empty((num_w, window, num_columns))  # preallocate\n",
        "    i = 0\n",
        "    for w in range(0, num_w):\n",
        "      x_data_part[w] = eeg[i:i + window]\n",
        "      i += (window - overlap)\n",
        "      if False: # watermark provenience of every window\n",
        "        for cc in range(0, num_columns):\n",
        "          x_data_part[w, 0, cc] = 1000 * (len(subj_inputs) - 1) + cc\n",
        "    x_data = np.vstack((x_data, x_data_part))\n",
        "    y_data = np.vstack((y_data, np.full((num_w, 1), category)))\n",
        "    subj_inputs[-1] += num_w\n",
        "\n",
        "  print('\\ntot samples:', tot_rows)\n",
        "  print('x_data:', x_data.shape)\n",
        "  print('y_data:', y_data.shape)\n",
        "  print('windows per subject:', subj_inputs)\n",
        "  print('class distribution:', [np.sum(y_data == cl) for cl in range(0, num_classes)])\n",
        "\n",
        "  return x_data, y_data, subj_inputs"
      ]
    },
    {
      "cell_type": "code",
      "execution_count": 10,
      "metadata": {
        "id": "ck7mkI-OvbYh"
      },
      "outputs": [],
      "source": [
        "def set_holes(A, prob):\n",
        "  for i in range(0, len(A)):\n",
        "    if np.random.rand() < prob:\n",
        "      l = 20\n",
        "      l = int(np.random.normal(l, l / 2))\n",
        "      A[i:i+l,:] = 0\n",
        "  return A\n",
        "\n",
        "\n",
        "def partition_data(subjects):\n",
        "  # subjects = tuple (0-based)\n",
        "  x_part = None\n",
        "  y_part = None\n",
        "  subj_inputs_part = []\n",
        "  for subj in subjects:\n",
        "    subj_inputs_part.append(subj_inputs[subj])\n",
        "    skip = sum(subj_inputs[:subj])\n",
        "    num = subj_inputs[subj]\n",
        "    xx = x_data[skip : skip + num]\n",
        "    yy = y_data[skip : skip + num]\n",
        "    if x_part is None:\n",
        "      x_part = xx.copy()\n",
        "      y_part = yy.copy()\n",
        "    else:\n",
        "      x_part = np.vstack((x_part, xx))  # vstack creates a copy of the data\n",
        "      y_part = np.vstack((y_part, yy))\n",
        "  print('---------partition_data-----------')\n",
        "  # print('x_part:', x_part.shape)\n",
        "  # print('y_part:', y_part.shape)\n",
        "  # print('subj_inputs_part:', len(subj_inputs_part))\n",
        "  return x_part, y_part, subj_inputs_part\n",
        "\n",
        "\n",
        "def oversampling(x_data, y_data):\n",
        "  # Duplicate inputs with classes occurring less, so to have a more balanced distribution.\n",
        "  # It operates on single data windows, so use it on data that have already been split\n",
        "  #  by subject (typically only on training data).\n",
        "\n",
        "  print('---------oversampling-----------')\n",
        "  x_data_over = x_data.copy()\n",
        "  y_data_over = y_data.copy()\n",
        "  occurr = [np.sum(y_data == cl) for cl in range(0, num_classes)]\n",
        "  for cl in range(0, num_classes):\n",
        "    if occurr[cl] == max(occurr):\n",
        "      continue\n",
        "    mask = y_data[:, 0] == cl\n",
        "    x_dup = x_data[mask].copy()\n",
        "    y_dup = y_data[mask].copy()\n",
        "    while occurr[cl] < max(occurr):\n",
        "      x_dup_jitter = x_dup + np.random.normal(scale=0.03, size=x_dup.shape)\n",
        "      how_many = min(len(y_dup), max(occurr) - occurr[cl])\n",
        "      x_data_over = np.vstack((x_data_over, x_dup_jitter[:how_many]))\n",
        "      y_data_over = np.vstack((y_data_over, y_dup[:how_many]))\n",
        "      occurr[cl] += how_many\n",
        "  return x_data_over, y_data_over\n",
        "\n",
        "\n",
        "def create_model(sample_window, dense1, lstm1, lstm2, lstm3 = 0, dropout = 0.2):\n",
        "  print(\"\\n### creating model\")\n",
        "  model = keras.Sequential()\n",
        "  model.add(keras.Input(shape = sample_window.shape, name = 'input'))\n",
        "  if dense1: model.add(Dense(dense1, name = 'dense1'))\n",
        "  #model.add(BatchNormalization(name = 'norm1'))\n",
        "  #model.add(Dropout(dropout, name = 'drop1'))\n",
        "  model.add(LSTM(lstm1, return_sequences = bool(lstm2), name = 'lstm1'))\n",
        "  if lstm2:\n",
        "    model.add(Dropout(dropout, name = 'drop2'))\n",
        "    model.add(LSTM(lstm2, return_sequences = bool(lstm3), name = 'lstm2'))\n",
        "  if lstm3:\n",
        "    model.add(Dropout(dropout, name = 'drop4'))\n",
        "    model.add(LSTM(lstm3, name = 'lstm3'))\n",
        "  model.add(Dropout(dropout, name = 'drop3'))\n",
        "  model.add(Dense(num_classes, name = 'dense2'))\n",
        "  model.compile(loss = keras.losses.SparseCategoricalCrossentropy(from_logits = True),\n",
        "    optimizer = 'adam', metrics = ['accuracy'])\n",
        "  model.summary()\n",
        "  return model\n",
        "\n",
        "from sklearn.decomposition import FastICA\n",
        "import numpy as np\n",
        "import scipy.io\n",
        "import os\n",
        "# from robust_pca import R_pca  # Assuming you saved the RPCA class as robust_pca.py\n"
      ]
    },
    {
      "cell_type": "code",
      "execution_count": 11,
      "metadata": {
        "id": "f9utzsvTyxDi"
      },
      "outputs": [],
      "source": [
        "import mne\n",
        "from mne.preprocessing import ICA\n",
        "from mne import create_info\n",
        "from mne.io import RawArray\n",
        "def pca_ica_rpca_reduction(A, tol=1e-6, comp=0, method='pca', rpca_mu=None):\n",
        "    \"\"\"\n",
        "    Parameters:\n",
        "    - A: Input matrix (2D array)\n",
        "    - tol: Tolerance for RPCA or PCA truncation (for ICA it's passed to FastICA)\n",
        "    - comp: Number of components (optional, default is 0 for automatic selection)\n",
        "    - method: 'pca', 'ica', or 'rpca' to specify the reduction technique\n",
        "    - rpca_mu: Optional parameter for RPCA if a custom mu is needed\n",
        "\n",
        "    Returns:\n",
        "    - L: The transformed matrix after applying PCA/ICA/RPCA\n",
        "    - V: The matrix of selected components (for PCA/ICA) or the sparse matrix (for RPCA)\n",
        "    \"\"\"\n",
        "    assert len(A.shape) == 2  # Ensure A is a 2D matrix\n",
        "    dmin = min(A.shape)  # Get the smaller dimension of the matrix\n",
        "\n",
        "    if method == 'pca':\n",
        "        print('Performing PCA...')\n",
        "        U, lam, V = np.linalg.svd(A, full_matrices=False)  # Singular value decomposition\n",
        "        assert U.shape == (A.shape[0], dmin) and lam.shape == (dmin,) and V.shape == (dmin, A.shape[1])\n",
        "        lam_trunc = lam[lam > 0.015 * lam[0]]\n",
        "        p = comp if comp else len(lam_trunc)\n",
        "        assert p <= dmin\n",
        "        print('PCA truncation', dmin, '->', p)\n",
        "        return A, V.T[:, :p]\n",
        "\n",
        "    elif method == 'ica':\n",
        "        # # First apply PCA as a preprocessing step\n",
        "        # print('Performing PCA as preprocessing...')\n",
        "        # U, lam, Vpca = np.linalg.svd(A, full_matrices=False)\n",
        "        # lam_trunc = lam[lam > 0.015 * lam[0]]\n",
        "        # p_pca = comp if comp else len(lam_trunc)\n",
        "        # A_pca = A @ Vpca.T[:, :p_pca]  # Reduced dimensionality matrix after PCA\n",
        "        # print(f'PCA completed: reduced to {p_pca} components.')\n",
        "\n",
        "        # # Create info object (required by MNE ICA)\n",
        "        # n_channels, n_times = A_pca.shape\n",
        "        # info = create_info(ch_names=[f'ch{i}' for i in range(n_channels)], sfreq=128, ch_types='eeg')\n",
        "\n",
        "        # # Convert PCA-reduced data to RawArray (required by MNE ICA)\n",
        "        # raw = RawArray(A_pca, info)\n",
        "\n",
        "        # # Apply MNE ICA\n",
        "        # print('Performing ICA using MNE...')\n",
        "        # ica = ICA(n_components=p_pca, max_iter=\"auto\", random_state=97)\n",
        "        # ica.fit(raw)  # Fit ICA to the raw data\n",
        "\n",
        "        # # Apply ICA to raw data (returns transformed data)\n",
        "        # ica.apply(raw)  # Apply the ICA solution to the data\n",
        "\n",
        "        # # Retrieve the ICA mixing matrix and the transformed signals\n",
        "        # L = raw.get_data()  # Transformed data after applying ICA\n",
        "        # Vica = ica.get_components()  # ICA mixing matrix (components from ICA)\n",
        "        # print('ICA components:', Vica.shape)\n",
        "        # print(L.shape)\n",
        "        # return L, Vica\n",
        "\n",
        "        print('Performing ICA...')\n",
        "        ica = sklearn.decomposition.FastICA(n_components=comp, max_iter=1500, random_state=42, tol=1e-1)\n",
        "        L = ica.fit_transform(A)  # L is the reduced matrix\n",
        "        V = ica.mixing_  # V is the mixing matrix (components)\n",
        "        print('ICA components:', V.shape)\n",
        "        return L, V\n",
        "\n",
        "    elif method == 'rpca':\n",
        "        print('Performing RPCA...')\n",
        "        r = r_pca.R_pca(A, mu=rpca_mu)\n",
        "        print('Auto tol:', 1e-7 * r.frobenius_norm(r.D), 'used tol:', tol)\n",
        "        print('mu:', r.mu, 'lambda:', r.lmbda)\n",
        "        L, S = r.fit(tol=tol, max_iter=10, iter_print=1)\n",
        "        global norm_s\n",
        "        norm_s = np.linalg.norm(S, ord='fro')\n",
        "        print('||A,L,S||:', np.linalg.norm(A, ord='fro'), np.linalg.norm(L, ord='fro'), np.linalg.norm(S, ord='fro'))\n",
        "        U, lam, V = np.linalg.svd(L, full_matrices = False)  # V is transposed\n",
        "        assert(U.shape == (A.shape[0], dmin) and lam.shape == (dmin,) and V.shape == (dmin, A.shape[1]))\n",
        "        #np.savetxt('singular_values.csv', lam)\n",
        "        lam_trunc = lam[lam > 0.015 * lam[0]]  # magic number\n",
        "        p = comp if comp else len(lam_trunc)\n",
        "        assert(p <= dmin)\n",
        "        print('PCA truncation', dmin, '->', p)\n",
        "        return L, V.T[:,:p]\n",
        "\n",
        "    else:\n",
        "        raise ValueError(\"Invalid method. Choose from 'pca', 'ica', or 'rpca'.\")\n",
        "\n",
        "def reduce_matrix(A, V, method):\n",
        "\n",
        "    print('---------reduce_matrix-----------')\n",
        "    # (N, w, 16) → (N, 16, w) → ((N*16), w) → compute V\n",
        "    # (N, 16, w) * V → transpose again last dimensions\n",
        "    B = np.swapaxes(A, 1, 2)  # (N, 16, w)\n",
        "    C = B.reshape((-1, B.shape[2]))  # ((N*16), w)\n",
        "    if V is None:\n",
        "        L, V = pca_ica_rpca_reduction(C, tol=5e-6, comp=min(50, C.shape[1]), method=method)\n",
        "    # if V is None:\n",
        "    #     L, V = pca_ica_rpca_reduction(C, tol=5e-6, comp=50, method=method)\n",
        "    if C.shape[1] != V.shape[0]:\n",
        "        raise ValueError(f\"Matrix dimension mismatch: C has {C.shape[1]} columns, but V has {V.shape[0]} rows.\")\n",
        "    B = C @ V  # ((N*16), p)\n",
        "    B = B.reshape((A.shape[0], A.shape[2], B.shape[1]))  # (N, 16, p)\n",
        "    return np.swapaxes(B, 1, 2), V  # B = (N, p, 16)\n",
        "\n",
        "\n",
        "def adjust_size(x, y):\n",
        "  # when flattening the data matrix on the first dimension, y must be made compatible\n",
        "  if len(x) == len(y): return y\n",
        "  factor = len(x) // len(y)\n",
        "  ynew = np.empty((len(x), 1))\n",
        "  for i in range(0, len(y)):\n",
        "    ynew[i * factor : (i + 1) * factor] = y[i]\n",
        "  return ynew\n"
      ]
    },
    {
      "cell_type": "code",
      "execution_count": 12,
      "metadata": {
        "id": "NugCn0y615kI"
      },
      "outputs": [],
      "source": [
        "def train_session(save_model = False, load_model = None, write_report = True, file_id = '', earlystop = 0, train_split = 0.75, method = 'ica'):\n",
        "  def write_values():\n",
        "    print(time.strftime('%H:%M:%S'), file = out_f)\n",
        "    print('window', window, 'overlap', overlap, 'decimation', decimation, file = out_f)\n",
        "    print('layers', dense1, lstm1, lstm2, lstm3, file = out_f)\n",
        "    print('oversample', oversample, file = out_f)\n",
        "    print('pca', pca, file = out_f)\n",
        "    print('rpca', rpca, file = out_f)\n",
        "    print('mspca', multiscale_pca, file = out_f)\n",
        "    print('subj_train', permutation, file = out_f)\n",
        "    print('epochs', epochs, file = out_f)\n",
        "    if history is not None:\n",
        "      print('fit_accuracy', [round(x, 4) for x in history.history['accuracy']], file = out_f)\n",
        "    if history is not None and 'val_accuracy' in history.history:\n",
        "      print('fit_val_accuracy', [round(x, 4) for x in history.history['val_accuracy']], file = out_f)\n",
        "    print('subj_test', subjs_test[perm_index] if subjs_test and type(subjs_test[0]) == tuple else subjs_test, file = out_f)\n",
        "    if subjs_test: print('test_accuracy', round(eval_metrics[1], 4), file = out_f)\n",
        "    print('permutation', perm_index + 1, file = out_f)\n",
        "    print('train_size', len(x_data_train), file = out_f)\n",
        "    print('p', 0 if Vpca is None else Vpca.shape[1], file = out_f)\n",
        "    print('spikes', spikes, file = out_f)\n",
        "    print('time_train', time_train, file = out_f)\n",
        "    if subjs_test: print('time_test', time_test, file = out_f)\n",
        "    print(file = out_f)\n",
        "    out_f.flush()\n",
        "\n",
        "  if write_report:\n",
        "    output_file = time.strftime('%Y%m%d-%H%M%S') + file_id + '.txt'\n",
        "    out_f = open(working_dir + '/' + output_file, 'w')\n",
        "  log_dir = log_dir_base + '/' + datetime.datetime.now().strftime('%Y%m%d-%H%M%S')\n",
        "  for perm_index, permutation in enumerate(subjs_train_perm):\n",
        "    assert(type(permutation) == tuple)\n",
        "    assert(len(permutation) == 2)\n",
        "    assert(type(permutation[0]) == tuple)\n",
        "    assert(type(permutation[1]) == tuple)\n",
        "    assert(type(subjs_test) == tuple)\n",
        "    tf.random.set_seed(42)\n",
        "    np.random.seed(42)\n",
        "    x_data_train, y_data_train, _ = partition_data(permutation[0])  # train subjects\n",
        "    x_data_val, y_data_val, _ = partition_data(permutation[1])  # validation subjects, can be None\n",
        "    if oversample:\n",
        "      print('\\nclass distribution (training subset):', [np.sum(y_data_train == cl) for cl in range(0, num_classes)])\n",
        "      x_data_train, y_data_train = oversampling(x_data_train, y_data_train)\n",
        "      print('After oversampling (training subset):')\n",
        "      print('x_data_train:', x_data_train.shape)\n",
        "      print('y_data_train:', y_data_train.shape)\n",
        "      print('class distribution:', [np.sum(y_data_train == cl) for cl in range(0, num_classes)])\n",
        "    if False:\n",
        "      #for i in range(0, len(x_data_train)):\n",
        "      #  x_data_train[i] = set_holes(x_data_train[i], spikes)\n",
        "      for w in range(0, len(x_data_train)):  # every window\n",
        "        for c in range(0, x_data_train.shape[2]):  # every column\n",
        "          if np.random.rand() < spikes:\n",
        "            t = 1\n",
        "            for r in range(0, x_data_train.shape[1] // 2):\n",
        "              x_data_train[w, r + x_data_train.shape[1] // 4 , c] = t\n",
        "              t *= -1\n",
        "    # if train_split != 0, we ignore the provided x_data_val and split training in training + validation (Laura)\n",
        "    if train_split:\n",
        "      x_data_train, x_data_val, y_data_train, y_data_val = sklearn.model_selection.train_test_split(x_data_train, y_data_train, train_size = train_split, random_state=42, shuffle=True)\n",
        "    #np.savez_compressed('x_data_train.npz', x_data_train = x_data_train)\n",
        "    #print('x_data_train saved')\n",
        "\n",
        "    x_data_train, Vpca = reduce_matrix(x_data_train, None, method=method)\n",
        "    y_data_train = adjust_size(x_data_train, y_data_train)\n",
        "    if x_data_val is not None:\n",
        "      x_data_val, _ = reduce_matrix(x_data_val, Vpca, method=method)\n",
        "      y_data_val = adjust_size(x_data_val, y_data_val)\n",
        "    print('x_data_train:', x_data_train.shape)\n",
        "    print('y_data_train:', y_data_train.shape, [np.sum(y_data_train == cl) for cl in range(0, num_classes)])\n",
        "    if x_data_val is not None:\n",
        "      print('x_data_val:', x_data_val.shape)\n",
        "      print('y_data_val:', y_data_val.shape, [np.sum(y_data_val == cl) for cl in range(0, num_classes)])\n",
        "\n",
        "    if load_model is None:\n",
        "      model = create_model(x_data_train[0], dense1, lstm1, lstm2, lstm3)\n",
        "      # draw model to PNG\n",
        "      keras.utils.plot_model(model, to_file = working_dir + '/model.pdf', show_shapes = True)\n",
        "      # model training\n",
        "      print(f'\\n### training with {permutation[0]}, {len(x_data_train)} inputs, {len(x_data_val) if x_data_val is not None else 0} validation')\n",
        "      callbacks = [keras.callbacks.TensorBoard(log_dir + f'_{perm_index + 1}', histogram_freq = 1)]\n",
        "      if earlystop:\n",
        "        callbacks.append(keras.callbacks.EarlyStopping('val_accuracy', min_delta = 0.001, patience = earlystop, restore_best_weights = True, verbose = 1))\n",
        "      # train\n",
        "      start_time = time.monotonic()\n",
        "      history = model.fit(x_data_train, y_data_train, epochs = epochs,\n",
        "        validation_data = (x_data_val, y_data_val) if x_data_val is not None else None,\n",
        "        callbacks = callbacks)\n",
        "      time_train = time.monotonic() - start_time\n",
        "    else:\n",
        "      # model must match with dataset parameters\n",
        "      model = keras.models.load_model(load_model)\n",
        "      history = None\n",
        "      time_train = 0\n",
        "\n",
        "    # model test\n",
        "    if subjs_test:\n",
        "      x_data_test, y_data_test, _ = partition_data(subjs_test[perm_index] if type(subjs_test[0]) == tuple else subjs_test)\n",
        "      if pca:\n",
        "        x_data_test, _ = reduce_matrix(x_data_test, Vpca, method)\n",
        "        y_data_test = adjust_size(x_data_test, y_data_test)\n",
        "      print(f'\\n### testing with {subjs_test[perm_index] if type(subjs_test[0]) == tuple else subjs_test}, {len(x_data_test)} inputs')\n",
        "      start_time = time.monotonic()\n",
        "      eval_metrics = model.evaluate(x_data_test, y_data_test)\n",
        "      time_test = time.monotonic() - start_time\n",
        "    else:\n",
        "      eval_metrics = [0., 0.]\n",
        "    if write_report:\n",
        "      write_values()\n",
        "    if save_model:\n",
        "      # save in both directory and h5 formats (we had problems with both of them sometimes)\n",
        "      model_file_name = f'{working_dir}/{file_id}model_w{window:04d}_o{overlap:03d}_d{decimation:03d}_e{epochs}_t{round(eval_metrics[1] * 10000)}'\n",
        "      #model.save(model_file_name)\n",
        "      model.save(model_file_name + '.h5')\n",
        "  if write_report:\n",
        "    out_f.close()\n",
        "\n",
        "  return model, x_data_test, y_data_test, eval_metrics[1]  # can be needed by other blocks\n"
      ]
    },
    {
      "cell_type": "markdown",
      "metadata": {
        "id": "RRDjZ1p2879G"
      },
      "source": [
        "# With RPCA"
      ]
    },
    {
      "cell_type": "code",
      "execution_count": 13,
      "metadata": {
        "colab": {
          "base_uri": "https://localhost:8080/"
        },
        "id": "YttU7p2q9Bx-",
        "outputId": "1c9fee62-c3f6-4cf3-f8f3-7470ce951056"
      },
      "outputs": [
        {
          "output_type": "stream",
          "name": "stdout",
          "text": [
            "(('01', 'N'), ('02', 'N'), ('03', 'N'), ('04', 'N'), ('05', 'N'), ('06', 'N'), ('07', 'N'), ('08', 'N'), ('09', 'N'), ('10', 'N'), ('11', 'N'), ('12', 'N'), ('13', 'N'), ('14', 'N'), ('15', 'N'), ('01', 'AD'), ('02', 'AD'), ('03', 'AD'), ('04', 'AD'), ('05', 'AD'), ('06', 'AD'), ('07', 'AD'), ('08', 'AD'), ('09', 'AD'), ('10', 'AD'), ('11', 'AD'), ('12', 'AD'), ('13', 'AD'), ('14', 'AD'), ('15', 'AD'), ('16', 'AD'), ('17', 'AD'), ('18', 'AD'), ('19', 'AD'), ('20', 'AD'))\n",
            "\n",
            "### creating dataset\n",
            "Subject: ('01', 'N'), EEG shape: (111232, 16)\n",
            "Subject: ('02', 'N'), EEG shape: (97280, 16)\n",
            "Subject: ('03', 'N'), EEG shape: (94720, 16)\n",
            "Subject: ('04', 'N'), EEG shape: (199808, 16)\n",
            "Subject: ('05', 'N'), EEG shape: (145920, 16)\n",
            "Subject: ('06', 'N'), EEG shape: (116608, 16)\n",
            "Subject: ('07', 'N'), EEG shape: (160896, 16)\n",
            "Subject: ('08', 'N'), EEG shape: (240640, 16)\n",
            "Subject: ('09', 'N'), EEG shape: (200064, 16)\n",
            "Subject: ('10', 'N'), EEG shape: (145536, 16)\n",
            "Subject: ('11', 'N'), EEG shape: (144768, 16)\n",
            "Subject: ('12', 'N'), EEG shape: (139264, 16)\n",
            "Subject: ('13', 'N'), EEG shape: (142080, 16)\n",
            "Subject: ('14', 'N'), EEG shape: (191872, 16)\n",
            "Subject: ('15', 'N'), EEG shape: (164608, 16)\n",
            "Subject: ('01', 'AD'), EEG shape: (177280, 16)\n",
            "Subject: ('02', 'AD'), EEG shape: (183168, 16)\n",
            "Subject: ('03', 'AD'), EEG shape: (184448, 16)\n",
            "Subject: ('04', 'AD'), EEG shape: (195328, 16)\n",
            "Subject: ('05', 'AD'), EEG shape: (170240, 16)\n",
            "Subject: ('06', 'AD'), EEG shape: (190976, 16)\n",
            "Subject: ('07', 'AD'), EEG shape: (201600, 16)\n",
            "Subject: ('08', 'AD'), EEG shape: (212864, 16)\n",
            "Subject: ('09', 'AD'), EEG shape: (172544, 16)\n",
            "Subject: ('10', 'AD'), EEG shape: (188416, 16)\n",
            "Subject: ('11', 'AD'), EEG shape: (204416, 16)\n",
            "Subject: ('12', 'AD'), EEG shape: (146432, 16)\n",
            "Subject: ('13', 'AD'), EEG shape: (143616, 16)\n",
            "Subject: ('14', 'AD'), EEG shape: (197120, 16)\n",
            "Subject: ('15', 'AD'), EEG shape: (183936, 16)\n",
            "Subject: ('16', 'AD'), EEG shape: (170112, 16)\n",
            "Subject: ('17', 'AD'), EEG shape: (197760, 16)\n",
            "Subject: ('18', 'AD'), EEG shape: (147840, 16)\n",
            "Subject: ('19', 'AD'), EEG shape: (149120, 16)\n",
            "Subject: ('20', 'AD'), EEG shape: (241792, 16)\n",
            "\n",
            "tot samples: 5954304\n",
            "x_data: (23214, 512, 16)\n",
            "y_data: (23214, 1)\n",
            "windows per subject: [433, 379, 369, 779, 569, 454, 627, 939, 780, 567, 564, 543, 554, 748, 642, 691, 714, 719, 762, 664, 745, 786, 830, 673, 735, 797, 571, 560, 769, 717, 663, 771, 576, 581, 943]\n",
            "class distribution: [8947, 14267]\n"
          ]
        }
      ],
      "source": [
        "\n",
        "\"\"\"---\n",
        "**Start of actual program blocks:**\n",
        "\"\"\"\n",
        "\n",
        "# create dataset, create model, train and test\n",
        "# if __name__ == '__main__':\n",
        "dense1 = 0\n",
        "lstm1 = 8\n",
        "lstm2 = 8\n",
        "lstm3 = 0\n",
        "method = 'rpca'\n",
        "window = 512\n",
        "overlap = window // 2\n",
        "oversample = True\n",
        "decimation = 0\n",
        "pca = True  # compute PCA on full data matrix\n",
        "rpca = False  # compute RPCA before PCA\n",
        "spikes = 1/500\n",
        "rpca_mu = 0.1\n",
        "\n",
        "subjs_train_perm = ( (tuple(i for i in range(2, 15)) + tuple(i for i in range(18, 32)), ()), )\n",
        "# subjs_train_perm = ( (tuple(i for i in range(2, 15)) + tuple(i for i in range(18, 35)), ()), )\n",
        "subjs_test = (0, 1, 15, 16, 17)  # 2 for N, 3 for AD\n",
        "epochs = 20\n",
        "\n",
        "  # if decimation:\n",
        "  #   window //= decimation\n",
        "  #   overlap //= decimation\n",
        "\n",
        "x_data, y_data, subj_inputs = create_dataset(window, overlap, decimation)\n",
        "\n"
      ]
    },
    {
      "cell_type": "code",
      "execution_count": 14,
      "metadata": {
        "colab": {
          "base_uri": "https://localhost:8080/",
          "height": 1000
        },
        "id": "WMj12Uyr9EaG",
        "outputId": "b6f16617-b2c8-4377-8d1a-5cd9b0980888"
      },
      "outputs": [
        {
          "output_type": "stream",
          "name": "stdout",
          "text": [
            "---------partition_data-----------\n",
            "---------partition_data-----------\n",
            "\n",
            "class distribution (training subset): [8135, 10043]\n",
            "---------oversampling-----------\n",
            "After oversampling (training subset):\n",
            "x_data_train: (20086, 512, 16)\n",
            "y_data_train: (20086, 1)\n",
            "class distribution: [10043, 10043]\n",
            "---------reduce_matrix-----------\n",
            "Performing RPCA...\n",
            "Auto tol: 0.0011176655627888079 used tol: 5e-06\n",
            "mu: 189.37998264492805 lambda: 0.0020369006894007243\n",
            "iteration: 1, error: 0.07015150436516683, ||S||: 0.0721284818922337\n",
            "iteration: 2, error: 3.62080536176879e-06, ||S||: 0.14425488584764504\n",
            "||A,L,S||: 11176.655627888078 11176.621929298784 0.14425488584764504\n",
            "PCA truncation 512 -> 50\n",
            "---------reduce_matrix-----------\n",
            "x_data_train: (15064, 50, 16)\n",
            "y_data_train: (15064, 1) [7573, 7491]\n",
            "x_data_val: (5022, 50, 16)\n",
            "y_data_val: (5022, 1) [2470, 2552]\n",
            "\n",
            "### creating model\n"
          ]
        },
        {
          "output_type": "display_data",
          "data": {
            "text/plain": [
              "\u001b[1mModel: \"sequential\"\u001b[0m\n"
            ],
            "text/html": [
              "<pre style=\"white-space:pre;overflow-x:auto;line-height:normal;font-family:Menlo,'DejaVu Sans Mono',consolas,'Courier New',monospace\"><span style=\"font-weight: bold\">Model: \"sequential\"</span>\n",
              "</pre>\n"
            ]
          },
          "metadata": {}
        },
        {
          "output_type": "display_data",
          "data": {
            "text/plain": [
              "┏━━━━━━━━━━━━━━━━━━━━━━━━━━━━━━━━━━━━━━┳━━━━━━━━━━━━━━━━━━━━━━━━━━━━━┳━━━━━━━━━━━━━━━━━┓\n",
              "┃\u001b[1m \u001b[0m\u001b[1mLayer (type)                        \u001b[0m\u001b[1m \u001b[0m┃\u001b[1m \u001b[0m\u001b[1mOutput Shape               \u001b[0m\u001b[1m \u001b[0m┃\u001b[1m \u001b[0m\u001b[1m        Param #\u001b[0m\u001b[1m \u001b[0m┃\n",
              "┡━━━━━━━━━━━━━━━━━━━━━━━━━━━━━━━━━━━━━━╇━━━━━━━━━━━━━━━━━━━━━━━━━━━━━╇━━━━━━━━━━━━━━━━━┩\n",
              "│ lstm1 (\u001b[38;5;33mLSTM\u001b[0m)                         │ (\u001b[38;5;45mNone\u001b[0m, \u001b[38;5;34m50\u001b[0m, \u001b[38;5;34m8\u001b[0m)               │             \u001b[38;5;34m800\u001b[0m │\n",
              "├──────────────────────────────────────┼─────────────────────────────┼─────────────────┤\n",
              "│ drop2 (\u001b[38;5;33mDropout\u001b[0m)                      │ (\u001b[38;5;45mNone\u001b[0m, \u001b[38;5;34m50\u001b[0m, \u001b[38;5;34m8\u001b[0m)               │               \u001b[38;5;34m0\u001b[0m │\n",
              "├──────────────────────────────────────┼─────────────────────────────┼─────────────────┤\n",
              "│ lstm2 (\u001b[38;5;33mLSTM\u001b[0m)                         │ (\u001b[38;5;45mNone\u001b[0m, \u001b[38;5;34m8\u001b[0m)                   │             \u001b[38;5;34m544\u001b[0m │\n",
              "├──────────────────────────────────────┼─────────────────────────────┼─────────────────┤\n",
              "│ drop3 (\u001b[38;5;33mDropout\u001b[0m)                      │ (\u001b[38;5;45mNone\u001b[0m, \u001b[38;5;34m8\u001b[0m)                   │               \u001b[38;5;34m0\u001b[0m │\n",
              "├──────────────────────────────────────┼─────────────────────────────┼─────────────────┤\n",
              "│ dense2 (\u001b[38;5;33mDense\u001b[0m)                       │ (\u001b[38;5;45mNone\u001b[0m, \u001b[38;5;34m2\u001b[0m)                   │              \u001b[38;5;34m18\u001b[0m │\n",
              "└──────────────────────────────────────┴─────────────────────────────┴─────────────────┘\n"
            ],
            "text/html": [
              "<pre style=\"white-space:pre;overflow-x:auto;line-height:normal;font-family:Menlo,'DejaVu Sans Mono',consolas,'Courier New',monospace\">┏━━━━━━━━━━━━━━━━━━━━━━━━━━━━━━━━━━━━━━┳━━━━━━━━━━━━━━━━━━━━━━━━━━━━━┳━━━━━━━━━━━━━━━━━┓\n",
              "┃<span style=\"font-weight: bold\"> Layer (type)                         </span>┃<span style=\"font-weight: bold\"> Output Shape                </span>┃<span style=\"font-weight: bold\">         Param # </span>┃\n",
              "┡━━━━━━━━━━━━━━━━━━━━━━━━━━━━━━━━━━━━━━╇━━━━━━━━━━━━━━━━━━━━━━━━━━━━━╇━━━━━━━━━━━━━━━━━┩\n",
              "│ lstm1 (<span style=\"color: #0087ff; text-decoration-color: #0087ff\">LSTM</span>)                         │ (<span style=\"color: #00d7ff; text-decoration-color: #00d7ff\">None</span>, <span style=\"color: #00af00; text-decoration-color: #00af00\">50</span>, <span style=\"color: #00af00; text-decoration-color: #00af00\">8</span>)               │             <span style=\"color: #00af00; text-decoration-color: #00af00\">800</span> │\n",
              "├──────────────────────────────────────┼─────────────────────────────┼─────────────────┤\n",
              "│ drop2 (<span style=\"color: #0087ff; text-decoration-color: #0087ff\">Dropout</span>)                      │ (<span style=\"color: #00d7ff; text-decoration-color: #00d7ff\">None</span>, <span style=\"color: #00af00; text-decoration-color: #00af00\">50</span>, <span style=\"color: #00af00; text-decoration-color: #00af00\">8</span>)               │               <span style=\"color: #00af00; text-decoration-color: #00af00\">0</span> │\n",
              "├──────────────────────────────────────┼─────────────────────────────┼─────────────────┤\n",
              "│ lstm2 (<span style=\"color: #0087ff; text-decoration-color: #0087ff\">LSTM</span>)                         │ (<span style=\"color: #00d7ff; text-decoration-color: #00d7ff\">None</span>, <span style=\"color: #00af00; text-decoration-color: #00af00\">8</span>)                   │             <span style=\"color: #00af00; text-decoration-color: #00af00\">544</span> │\n",
              "├──────────────────────────────────────┼─────────────────────────────┼─────────────────┤\n",
              "│ drop3 (<span style=\"color: #0087ff; text-decoration-color: #0087ff\">Dropout</span>)                      │ (<span style=\"color: #00d7ff; text-decoration-color: #00d7ff\">None</span>, <span style=\"color: #00af00; text-decoration-color: #00af00\">8</span>)                   │               <span style=\"color: #00af00; text-decoration-color: #00af00\">0</span> │\n",
              "├──────────────────────────────────────┼─────────────────────────────┼─────────────────┤\n",
              "│ dense2 (<span style=\"color: #0087ff; text-decoration-color: #0087ff\">Dense</span>)                       │ (<span style=\"color: #00d7ff; text-decoration-color: #00d7ff\">None</span>, <span style=\"color: #00af00; text-decoration-color: #00af00\">2</span>)                   │              <span style=\"color: #00af00; text-decoration-color: #00af00\">18</span> │\n",
              "└──────────────────────────────────────┴─────────────────────────────┴─────────────────┘\n",
              "</pre>\n"
            ]
          },
          "metadata": {}
        },
        {
          "output_type": "display_data",
          "data": {
            "text/plain": [
              "\u001b[1m Total params: \u001b[0m\u001b[38;5;34m1,362\u001b[0m (5.32 KB)\n"
            ],
            "text/html": [
              "<pre style=\"white-space:pre;overflow-x:auto;line-height:normal;font-family:Menlo,'DejaVu Sans Mono',consolas,'Courier New',monospace\"><span style=\"font-weight: bold\"> Total params: </span><span style=\"color: #00af00; text-decoration-color: #00af00\">1,362</span> (5.32 KB)\n",
              "</pre>\n"
            ]
          },
          "metadata": {}
        },
        {
          "output_type": "display_data",
          "data": {
            "text/plain": [
              "\u001b[1m Trainable params: \u001b[0m\u001b[38;5;34m1,362\u001b[0m (5.32 KB)\n"
            ],
            "text/html": [
              "<pre style=\"white-space:pre;overflow-x:auto;line-height:normal;font-family:Menlo,'DejaVu Sans Mono',consolas,'Courier New',monospace\"><span style=\"font-weight: bold\"> Trainable params: </span><span style=\"color: #00af00; text-decoration-color: #00af00\">1,362</span> (5.32 KB)\n",
              "</pre>\n"
            ]
          },
          "metadata": {}
        },
        {
          "output_type": "display_data",
          "data": {
            "text/plain": [
              "\u001b[1m Non-trainable params: \u001b[0m\u001b[38;5;34m0\u001b[0m (0.00 B)\n"
            ],
            "text/html": [
              "<pre style=\"white-space:pre;overflow-x:auto;line-height:normal;font-family:Menlo,'DejaVu Sans Mono',consolas,'Courier New',monospace\"><span style=\"font-weight: bold\"> Non-trainable params: </span><span style=\"color: #00af00; text-decoration-color: #00af00\">0</span> (0.00 B)\n",
              "</pre>\n"
            ]
          },
          "metadata": {}
        },
        {
          "output_type": "stream",
          "name": "stdout",
          "text": [
            "\n",
            "### training with (2, 3, 4, 5, 6, 7, 8, 9, 10, 11, 12, 13, 14, 18, 19, 20, 21, 22, 23, 24, 25, 26, 27, 28, 29, 30, 31), 15064 inputs, 5022 validation\n",
            "Epoch 1/20\n",
            "\u001b[1m471/471\u001b[0m \u001b[32m━━━━━━━━━━━━━━━━━━━━\u001b[0m\u001b[37m\u001b[0m \u001b[1m20s\u001b[0m 35ms/step - accuracy: 0.5783 - loss: 0.6576 - val_accuracy: 0.8068 - val_loss: 0.4362\n",
            "Epoch 2/20\n",
            "\u001b[1m471/471\u001b[0m \u001b[32m━━━━━━━━━━━━━━━━━━━━\u001b[0m\u001b[37m\u001b[0m \u001b[1m16s\u001b[0m 34ms/step - accuracy: 0.8255 - loss: 0.4137 - val_accuracy: 0.8590 - val_loss: 0.3418\n",
            "Epoch 3/20\n",
            "\u001b[1m471/471\u001b[0m \u001b[32m━━━━━━━━━━━━━━━━━━━━\u001b[0m\u001b[37m\u001b[0m \u001b[1m21s\u001b[0m 34ms/step - accuracy: 0.8678 - loss: 0.3393 - val_accuracy: 0.8777 - val_loss: 0.2999\n",
            "Epoch 4/20\n",
            "\u001b[1m471/471\u001b[0m \u001b[32m━━━━━━━━━━━━━━━━━━━━\u001b[0m\u001b[37m\u001b[0m \u001b[1m16s\u001b[0m 34ms/step - accuracy: 0.8887 - loss: 0.2857 - val_accuracy: 0.9038 - val_loss: 0.2464\n",
            "Epoch 5/20\n",
            "\u001b[1m471/471\u001b[0m \u001b[32m━━━━━━━━━━━━━━━━━━━━\u001b[0m\u001b[37m\u001b[0m \u001b[1m21s\u001b[0m 34ms/step - accuracy: 0.9056 - loss: 0.2481 - val_accuracy: 0.9184 - val_loss: 0.2179\n",
            "Epoch 6/20\n",
            "\u001b[1m471/471\u001b[0m \u001b[32m━━━━━━━━━━━━━━━━━━━━\u001b[0m\u001b[37m\u001b[0m \u001b[1m20s\u001b[0m 34ms/step - accuracy: 0.9172 - loss: 0.2207 - val_accuracy: 0.9297 - val_loss: 0.1949\n",
            "Epoch 7/20\n",
            "\u001b[1m471/471\u001b[0m \u001b[32m━━━━━━━━━━━━━━━━━━━━\u001b[0m\u001b[37m\u001b[0m \u001b[1m20s\u001b[0m 34ms/step - accuracy: 0.9266 - loss: 0.2005 - val_accuracy: 0.9325 - val_loss: 0.1881\n",
            "Epoch 8/20\n",
            "\u001b[1m471/471\u001b[0m \u001b[32m━━━━━━━━━━━━━━━━━━━━\u001b[0m\u001b[37m\u001b[0m \u001b[1m22s\u001b[0m 36ms/step - accuracy: 0.9318 - loss: 0.1868 - val_accuracy: 0.9391 - val_loss: 0.1724\n",
            "Epoch 9/20\n",
            "\u001b[1m471/471\u001b[0m \u001b[32m━━━━━━━━━━━━━━━━━━━━\u001b[0m\u001b[37m\u001b[0m \u001b[1m20s\u001b[0m 34ms/step - accuracy: 0.9351 - loss: 0.1715 - val_accuracy: 0.9423 - val_loss: 0.1652\n",
            "Epoch 10/20\n",
            "\u001b[1m471/471\u001b[0m \u001b[32m━━━━━━━━━━━━━━━━━━━━\u001b[0m\u001b[37m\u001b[0m \u001b[1m20s\u001b[0m 34ms/step - accuracy: 0.9434 - loss: 0.1597 - val_accuracy: 0.9498 - val_loss: 0.1497\n",
            "Epoch 11/20\n",
            "\u001b[1m471/471\u001b[0m \u001b[32m━━━━━━━━━━━━━━━━━━━━\u001b[0m\u001b[37m\u001b[0m \u001b[1m20s\u001b[0m 34ms/step - accuracy: 0.9467 - loss: 0.1547 - val_accuracy: 0.9502 - val_loss: 0.1449\n",
            "Epoch 12/20\n",
            "\u001b[1m471/471\u001b[0m \u001b[32m━━━━━━━━━━━━━━━━━━━━\u001b[0m\u001b[37m\u001b[0m \u001b[1m16s\u001b[0m 34ms/step - accuracy: 0.9486 - loss: 0.1428 - val_accuracy: 0.9534 - val_loss: 0.1367\n",
            "Epoch 13/20\n",
            "\u001b[1m471/471\u001b[0m \u001b[32m━━━━━━━━━━━━━━━━━━━━\u001b[0m\u001b[37m\u001b[0m \u001b[1m20s\u001b[0m 34ms/step - accuracy: 0.9527 - loss: 0.1332 - val_accuracy: 0.9546 - val_loss: 0.1359\n",
            "Epoch 14/20\n",
            "\u001b[1m471/471\u001b[0m \u001b[32m━━━━━━━━━━━━━━━━━━━━\u001b[0m\u001b[37m\u001b[0m \u001b[1m21s\u001b[0m 35ms/step - accuracy: 0.9563 - loss: 0.1251 - val_accuracy: 0.9562 - val_loss: 0.1279\n",
            "Epoch 15/20\n",
            "\u001b[1m471/471\u001b[0m \u001b[32m━━━━━━━━━━━━━━━━━━━━\u001b[0m\u001b[37m\u001b[0m \u001b[1m20s\u001b[0m 34ms/step - accuracy: 0.9586 - loss: 0.1166 - val_accuracy: 0.9582 - val_loss: 0.1237\n",
            "Epoch 16/20\n",
            "\u001b[1m471/471\u001b[0m \u001b[32m━━━━━━━━━━━━━━━━━━━━\u001b[0m\u001b[37m\u001b[0m \u001b[1m22s\u001b[0m 37ms/step - accuracy: 0.9610 - loss: 0.1152 - val_accuracy: 0.9580 - val_loss: 0.1196\n",
            "Epoch 17/20\n",
            "\u001b[1m471/471\u001b[0m \u001b[32m━━━━━━━━━━━━━━━━━━━━\u001b[0m\u001b[37m\u001b[0m \u001b[1m16s\u001b[0m 34ms/step - accuracy: 0.9624 - loss: 0.1097 - val_accuracy: 0.9604 - val_loss: 0.1149\n",
            "Epoch 18/20\n",
            "\u001b[1m471/471\u001b[0m \u001b[32m━━━━━━━━━━━━━━━━━━━━\u001b[0m\u001b[37m\u001b[0m \u001b[1m16s\u001b[0m 35ms/step - accuracy: 0.9653 - loss: 0.1032 - val_accuracy: 0.9590 - val_loss: 0.1190\n",
            "Epoch 19/20\n",
            "\u001b[1m471/471\u001b[0m \u001b[32m━━━━━━━━━━━━━━━━━━━━\u001b[0m\u001b[37m\u001b[0m \u001b[1m22s\u001b[0m 37ms/step - accuracy: 0.9642 - loss: 0.1033 - val_accuracy: 0.9586 - val_loss: 0.1188\n",
            "Epoch 20/20\n",
            "\u001b[1m471/471\u001b[0m \u001b[32m━━━━━━━━━━━━━━━━━━━━\u001b[0m\u001b[37m\u001b[0m \u001b[1m19s\u001b[0m 34ms/step - accuracy: 0.9665 - loss: 0.0975 - val_accuracy: 0.9616 - val_loss: 0.1138\n",
            "---------partition_data-----------\n",
            "---------reduce_matrix-----------\n",
            "\n",
            "### testing with (0, 1, 15, 16, 17), 2936 inputs\n",
            "\u001b[1m92/92\u001b[0m \u001b[32m━━━━━━━━━━━━━━━━━━━━\u001b[0m\u001b[37m\u001b[0m \u001b[1m1s\u001b[0m 9ms/step - accuracy: 0.8512 - loss: 0.3503\n"
          ]
        }
      ],
      "source": [
        "\n",
        "model, x_data_test, y_data_test, test_acc = train_session(save_model = False, earlystop = 0,method = 'rpca')  # returned variables can be optionally used by other blocks of code"
      ]
    },
    {
      "cell_type": "code",
      "execution_count": 15,
      "metadata": {
        "id": "jySsvOwd9Jfo",
        "colab": {
          "base_uri": "https://localhost:8080/"
        },
        "outputId": "1cc367e3-45fc-4315-d3e3-892c5c36920b"
      },
      "outputs": [
        {
          "output_type": "stream",
          "name": "stdout",
          "text": [
            "### testing with 2936 inputs\n",
            "\u001b[1m92/92\u001b[0m \u001b[32m━━━━━━━━━━━━━━━━━━━━\u001b[0m\u001b[37m\u001b[0m \u001b[1m1s\u001b[0m 11ms/step - accuracy: 0.8512 - loss: 0.3503\n"
          ]
        }
      ],
      "source": [
        "# model test only\n",
        "# if False and __name__ == '__main__':\n",
        "print(f'### testing with {len(x_data_test)} inputs')\n",
        "eval_metrics = model.evaluate(x_data_test, y_data_test)\n"
      ]
    },
    {
      "cell_type": "code",
      "execution_count": 16,
      "metadata": {
        "id": "olpobd4c9LH3",
        "colab": {
          "base_uri": "https://localhost:8080/",
          "height": 524
        },
        "outputId": "2296e31e-cb4b-4e55-f232-59422e786055"
      },
      "outputs": [
        {
          "output_type": "stream",
          "name": "stdout",
          "text": [
            "\u001b[1m92/92\u001b[0m \u001b[32m━━━━━━━━━━━━━━━━━━━━\u001b[0m\u001b[37m\u001b[0m \u001b[1m2s\u001b[0m 13ms/step\n"
          ]
        },
        {
          "output_type": "display_data",
          "data": {
            "text/plain": [
              "<Figure size 500x500 with 2 Axes>"
            ],
            "image/png": "[encoded data removed]"
          },
          "metadata": {}
        }
      ],
      "source": [
        "# # create confusion matrix\n",
        "# if False and __name__ == '__main__':\n",
        "import pandas as pd\n",
        "import seaborn\n",
        "y_pred = np.argmax(model.predict(x_data_test), axis=-1)\n",
        "con_mat = tf.math.confusion_matrix(labels = y_data_test, predictions = y_pred).numpy()\n",
        "con_mat_norm = np.around(con_mat.astype('float') / con_mat.sum(axis = 1)[:, np.newaxis], decimals = 2)\n",
        "classes = ['N', 'AD']\n",
        "con_mat_df = pd.DataFrame(con_mat_norm, index = classes, columns = classes)\n",
        "figure = plt.figure(figsize = (5, 5))\n",
        "seaborn.heatmap(con_mat_df, annot = True, cmap = plt.cm.Blues)\n",
        "plt.tight_layout()\n",
        "plt.ylabel('True label')\n",
        "plt.xlabel('Predicted label')\n",
        "plt.tight_layout()\n",
        "plt.savefig(working_dir + '/confusion_matrix_withoutRPCA.png', dpi = 600)\n",
        "plt.show()"
      ]
    },
    {
      "cell_type": "markdown",
      "source": [],
      "metadata": {
        "id": "pLx2EcV85kP6"
      }
    },
    {
      "cell_type": "markdown",
      "metadata": {
        "id": "cqXMOGdFiww1"
      },
      "source": [
        "# With PCA Only"
      ]
    },
    {
      "cell_type": "code",
      "execution_count": 17,
      "metadata": {
        "colab": {
          "base_uri": "https://localhost:8080/"
        },
        "outputId": "4fab6ef7-dc74-4d82-e958-77eb5024233a",
        "id": "9A71HYK2iww1"
      },
      "outputs": [
        {
          "output_type": "stream",
          "name": "stdout",
          "text": [
            "(('01', 'N'), ('02', 'N'), ('03', 'N'), ('04', 'N'), ('05', 'N'), ('06', 'N'), ('07', 'N'), ('08', 'N'), ('09', 'N'), ('10', 'N'), ('11', 'N'), ('12', 'N'), ('13', 'N'), ('14', 'N'), ('15', 'N'), ('01', 'AD'), ('02', 'AD'), ('03', 'AD'), ('04', 'AD'), ('05', 'AD'), ('06', 'AD'), ('07', 'AD'), ('08', 'AD'), ('09', 'AD'), ('10', 'AD'), ('11', 'AD'), ('12', 'AD'), ('13', 'AD'), ('14', 'AD'), ('15', 'AD'), ('16', 'AD'), ('17', 'AD'), ('18', 'AD'), ('19', 'AD'), ('20', 'AD'))\n",
            "\n",
            "### creating dataset\n",
            "Subject: ('01', 'N'), EEG shape: (111232, 16)\n",
            "Subject: ('02', 'N'), EEG shape: (97280, 16)\n",
            "Subject: ('03', 'N'), EEG shape: (94720, 16)\n",
            "Subject: ('04', 'N'), EEG shape: (199808, 16)\n",
            "Subject: ('05', 'N'), EEG shape: (145920, 16)\n",
            "Subject: ('06', 'N'), EEG shape: (116608, 16)\n",
            "Subject: ('07', 'N'), EEG shape: (160896, 16)\n",
            "Subject: ('08', 'N'), EEG shape: (240640, 16)\n",
            "Subject: ('09', 'N'), EEG shape: (200064, 16)\n",
            "Subject: ('10', 'N'), EEG shape: (145536, 16)\n",
            "Subject: ('11', 'N'), EEG shape: (144768, 16)\n",
            "Subject: ('12', 'N'), EEG shape: (139264, 16)\n",
            "Subject: ('13', 'N'), EEG shape: (142080, 16)\n",
            "Subject: ('14', 'N'), EEG shape: (191872, 16)\n",
            "Subject: ('15', 'N'), EEG shape: (164608, 16)\n",
            "Subject: ('01', 'AD'), EEG shape: (177280, 16)\n",
            "Subject: ('02', 'AD'), EEG shape: (183168, 16)\n",
            "Subject: ('03', 'AD'), EEG shape: (184448, 16)\n",
            "Subject: ('04', 'AD'), EEG shape: (195328, 16)\n",
            "Subject: ('05', 'AD'), EEG shape: (170240, 16)\n",
            "Subject: ('06', 'AD'), EEG shape: (190976, 16)\n",
            "Subject: ('07', 'AD'), EEG shape: (201600, 16)\n",
            "Subject: ('08', 'AD'), EEG shape: (212864, 16)\n",
            "Subject: ('09', 'AD'), EEG shape: (172544, 16)\n",
            "Subject: ('10', 'AD'), EEG shape: (188416, 16)\n",
            "Subject: ('11', 'AD'), EEG shape: (204416, 16)\n",
            "Subject: ('12', 'AD'), EEG shape: (146432, 16)\n",
            "Subject: ('13', 'AD'), EEG shape: (143616, 16)\n",
            "Subject: ('14', 'AD'), EEG shape: (197120, 16)\n",
            "Subject: ('15', 'AD'), EEG shape: (183936, 16)\n",
            "Subject: ('16', 'AD'), EEG shape: (170112, 16)\n",
            "Subject: ('17', 'AD'), EEG shape: (197760, 16)\n",
            "Subject: ('18', 'AD'), EEG shape: (147840, 16)\n",
            "Subject: ('19', 'AD'), EEG shape: (149120, 16)\n",
            "Subject: ('20', 'AD'), EEG shape: (241792, 16)\n",
            "\n",
            "tot samples: 5954304\n",
            "x_data: (23214, 512, 16)\n",
            "y_data: (23214, 1)\n",
            "windows per subject: [433, 379, 369, 779, 569, 454, 627, 939, 780, 567, 564, 543, 554, 748, 642, 691, 714, 719, 762, 664, 745, 786, 830, 673, 735, 797, 571, 560, 769, 717, 663, 771, 576, 581, 943]\n",
            "class distribution: [8947, 14267]\n"
          ]
        }
      ],
      "source": [
        "\n",
        "\"\"\"---\n",
        "**Start of actual program blocks:**\n",
        "\"\"\"\n",
        "\n",
        "# create dataset, create model, train and test\n",
        "# if __name__ == '__main__':\n",
        "dense1 = 0\n",
        "lstm1 = 8\n",
        "lstm2 = 8\n",
        "lstm3 = 0\n",
        "method = 'pca'\n",
        "window = 512\n",
        "overlap = window // 2\n",
        "oversample = True\n",
        "decimation = 0\n",
        "pca = True  # compute PCA on full data matrix\n",
        "rpca = False  # compute RPCA before PCA\n",
        "spikes = 1/500\n",
        "rpca_mu = 0.1\n",
        "\n",
        "subjs_train_perm = ( (tuple(i for i in range(2, 15)) + tuple(i for i in range(18, 32)), ()), )\n",
        "# subjs_train_perm = ( (tuple(i for i in range(2, 15)) + tuple(i for i in range(18, 35)), ()), )\n",
        "subjs_test = (0, 1, 15, 16, 17)  # 2 for N, 3 for AD\n",
        "epochs = 20\n",
        "\n",
        "  # if decimation:\n",
        "  #   window //= decimation\n",
        "  #   overlap //= decimation\n",
        "\n",
        "x_data, y_data, subj_inputs = create_dataset(window, overlap, decimation)\n",
        "\n"
      ]
    },
    {
      "cell_type": "code",
      "execution_count": 18,
      "metadata": {
        "colab": {
          "base_uri": "https://localhost:8080/",
          "height": 1000
        },
        "outputId": "7acd23a6-098d-447a-d30b-7df1b674b2e8",
        "id": "SaQfRpt7iww2"
      },
      "outputs": [
        {
          "output_type": "stream",
          "name": "stdout",
          "text": [
            "---------partition_data-----------\n",
            "---------partition_data-----------\n",
            "\n",
            "class distribution (training subset): [8135, 10043]\n",
            "---------oversampling-----------\n",
            "After oversampling (training subset):\n",
            "x_data_train: (20086, 512, 16)\n",
            "y_data_train: (20086, 1)\n",
            "class distribution: [10043, 10043]\n",
            "---------reduce_matrix-----------\n",
            "Performing PCA...\n",
            "PCA truncation 512 -> 50\n",
            "---------reduce_matrix-----------\n",
            "x_data_train: (15064, 50, 16)\n",
            "y_data_train: (15064, 1) [7573, 7491]\n",
            "x_data_val: (5022, 50, 16)\n",
            "y_data_val: (5022, 1) [2470, 2552]\n",
            "\n",
            "### creating model\n"
          ]
        },
        {
          "output_type": "display_data",
          "data": {
            "text/plain": [
              "\u001b[1mModel: \"sequential_1\"\u001b[0m\n"
            ],
            "text/html": [
              "<pre style=\"white-space:pre;overflow-x:auto;line-height:normal;font-family:Menlo,'DejaVu Sans Mono',consolas,'Courier New',monospace\"><span style=\"font-weight: bold\">Model: \"sequential_1\"</span>\n",
              "</pre>\n"
            ]
          },
          "metadata": {}
        },
        {
          "output_type": "display_data",
          "data": {
            "text/plain": [
              "┏━━━━━━━━━━━━━━━━━━━━━━━━━━━━━━━━━━━━━━┳━━━━━━━━━━━━━━━━━━━━━━━━━━━━━┳━━━━━━━━━━━━━━━━━┓\n",
              "┃\u001b[1m \u001b[0m\u001b[1mLayer (type)                        \u001b[0m\u001b[1m \u001b[0m┃\u001b[1m \u001b[0m\u001b[1mOutput Shape               \u001b[0m\u001b[1m \u001b[0m┃\u001b[1m \u001b[0m\u001b[1m        Param #\u001b[0m\u001b[1m \u001b[0m┃\n",
              "┡━━━━━━━━━━━━━━━━━━━━━━━━━━━━━━━━━━━━━━╇━━━━━━━━━━━━━━━━━━━━━━━━━━━━━╇━━━━━━━━━━━━━━━━━┩\n",
              "│ lstm1 (\u001b[38;5;33mLSTM\u001b[0m)                         │ (\u001b[38;5;45mNone\u001b[0m, \u001b[38;5;34m50\u001b[0m, \u001b[38;5;34m8\u001b[0m)               │             \u001b[38;5;34m800\u001b[0m │\n",
              "├──────────────────────────────────────┼─────────────────────────────┼─────────────────┤\n",
              "│ drop2 (\u001b[38;5;33mDropout\u001b[0m)                      │ (\u001b[38;5;45mNone\u001b[0m, \u001b[38;5;34m50\u001b[0m, \u001b[38;5;34m8\u001b[0m)               │               \u001b[38;5;34m0\u001b[0m │\n",
              "├──────────────────────────────────────┼─────────────────────────────┼─────────────────┤\n",
              "│ lstm2 (\u001b[38;5;33mLSTM\u001b[0m)                         │ (\u001b[38;5;45mNone\u001b[0m, \u001b[38;5;34m8\u001b[0m)                   │             \u001b[38;5;34m544\u001b[0m │\n",
              "├──────────────────────────────────────┼─────────────────────────────┼─────────────────┤\n",
              "│ drop3 (\u001b[38;5;33mDropout\u001b[0m)                      │ (\u001b[38;5;45mNone\u001b[0m, \u001b[38;5;34m8\u001b[0m)                   │               \u001b[38;5;34m0\u001b[0m │\n",
              "├──────────────────────────────────────┼─────────────────────────────┼─────────────────┤\n",
              "│ dense2 (\u001b[38;5;33mDense\u001b[0m)                       │ (\u001b[38;5;45mNone\u001b[0m, \u001b[38;5;34m2\u001b[0m)                   │              \u001b[38;5;34m18\u001b[0m │\n",
              "└──────────────────────────────────────┴─────────────────────────────┴─────────────────┘\n"
            ],
            "text/html": [
              "<pre style=\"white-space:pre;overflow-x:auto;line-height:normal;font-family:Menlo,'DejaVu Sans Mono',consolas,'Courier New',monospace\">┏━━━━━━━━━━━━━━━━━━━━━━━━━━━━━━━━━━━━━━┳━━━━━━━━━━━━━━━━━━━━━━━━━━━━━┳━━━━━━━━━━━━━━━━━┓\n",
              "┃<span style=\"font-weight: bold\"> Layer (type)                         </span>┃<span style=\"font-weight: bold\"> Output Shape                </span>┃<span style=\"font-weight: bold\">         Param # </span>┃\n",
              "┡━━━━━━━━━━━━━━━━━━━━━━━━━━━━━━━━━━━━━━╇━━━━━━━━━━━━━━━━━━━━━━━━━━━━━╇━━━━━━━━━━━━━━━━━┩\n",
              "│ lstm1 (<span style=\"color: #0087ff; text-decoration-color: #0087ff\">LSTM</span>)                         │ (<span style=\"color: #00d7ff; text-decoration-color: #00d7ff\">None</span>, <span style=\"color: #00af00; text-decoration-color: #00af00\">50</span>, <span style=\"color: #00af00; text-decoration-color: #00af00\">8</span>)               │             <span style=\"color: #00af00; text-decoration-color: #00af00\">800</span> │\n",
              "├──────────────────────────────────────┼─────────────────────────────┼─────────────────┤\n",
              "│ drop2 (<span style=\"color: #0087ff; text-decoration-color: #0087ff\">Dropout</span>)                      │ (<span style=\"color: #00d7ff; text-decoration-color: #00d7ff\">None</span>, <span style=\"color: #00af00; text-decoration-color: #00af00\">50</span>, <span style=\"color: #00af00; text-decoration-color: #00af00\">8</span>)               │               <span style=\"color: #00af00; text-decoration-color: #00af00\">0</span> │\n",
              "├──────────────────────────────────────┼─────────────────────────────┼─────────────────┤\n",
              "│ lstm2 (<span style=\"color: #0087ff; text-decoration-color: #0087ff\">LSTM</span>)                         │ (<span style=\"color: #00d7ff; text-decoration-color: #00d7ff\">None</span>, <span style=\"color: #00af00; text-decoration-color: #00af00\">8</span>)                   │             <span style=\"color: #00af00; text-decoration-color: #00af00\">544</span> │\n",
              "├──────────────────────────────────────┼─────────────────────────────┼─────────────────┤\n",
              "│ drop3 (<span style=\"color: #0087ff; text-decoration-color: #0087ff\">Dropout</span>)                      │ (<span style=\"color: #00d7ff; text-decoration-color: #00d7ff\">None</span>, <span style=\"color: #00af00; text-decoration-color: #00af00\">8</span>)                   │               <span style=\"color: #00af00; text-decoration-color: #00af00\">0</span> │\n",
              "├──────────────────────────────────────┼─────────────────────────────┼─────────────────┤\n",
              "│ dense2 (<span style=\"color: #0087ff; text-decoration-color: #0087ff\">Dense</span>)                       │ (<span style=\"color: #00d7ff; text-decoration-color: #00d7ff\">None</span>, <span style=\"color: #00af00; text-decoration-color: #00af00\">2</span>)                   │              <span style=\"color: #00af00; text-decoration-color: #00af00\">18</span> │\n",
              "└──────────────────────────────────────┴─────────────────────────────┴─────────────────┘\n",
              "</pre>\n"
            ]
          },
          "metadata": {}
        },
        {
          "output_type": "display_data",
          "data": {
            "text/plain": [
              "\u001b[1m Total params: \u001b[0m\u001b[38;5;34m1,362\u001b[0m (5.32 KB)\n"
            ],
            "text/html": [
              "<pre style=\"white-space:pre;overflow-x:auto;line-height:normal;font-family:Menlo,'DejaVu Sans Mono',consolas,'Courier New',monospace\"><span style=\"font-weight: bold\"> Total params: </span><span style=\"color: #00af00; text-decoration-color: #00af00\">1,362</span> (5.32 KB)\n",
              "</pre>\n"
            ]
          },
          "metadata": {}
        },
        {
          "output_type": "display_data",
          "data": {
            "text/plain": [
              "\u001b[1m Trainable params: \u001b[0m\u001b[38;5;34m1,362\u001b[0m (5.32 KB)\n"
            ],
            "text/html": [
              "<pre style=\"white-space:pre;overflow-x:auto;line-height:normal;font-family:Menlo,'DejaVu Sans Mono',consolas,'Courier New',monospace\"><span style=\"font-weight: bold\"> Trainable params: </span><span style=\"color: #00af00; text-decoration-color: #00af00\">1,362</span> (5.32 KB)\n",
              "</pre>\n"
            ]
          },
          "metadata": {}
        },
        {
          "output_type": "display_data",
          "data": {
            "text/plain": [
              "\u001b[1m Non-trainable params: \u001b[0m\u001b[38;5;34m0\u001b[0m (0.00 B)\n"
            ],
            "text/html": [
              "<pre style=\"white-space:pre;overflow-x:auto;line-height:normal;font-family:Menlo,'DejaVu Sans Mono',consolas,'Courier New',monospace\"><span style=\"font-weight: bold\"> Non-trainable params: </span><span style=\"color: #00af00; text-decoration-color: #00af00\">0</span> (0.00 B)\n",
              "</pre>\n"
            ]
          },
          "metadata": {}
        },
        {
          "output_type": "stream",
          "name": "stdout",
          "text": [
            "\n",
            "### training with (2, 3, 4, 5, 6, 7, 8, 9, 10, 11, 12, 13, 14, 18, 19, 20, 21, 22, 23, 24, 25, 26, 27, 28, 29, 30, 31), 15064 inputs, 5022 validation\n",
            "Epoch 1/20\n",
            "\u001b[1m471/471\u001b[0m \u001b[32m━━━━━━━━━━━━━━━━━━━━\u001b[0m\u001b[37m\u001b[0m \u001b[1m21s\u001b[0m 36ms/step - accuracy: 0.5510 - loss: 0.6637 - val_accuracy: 0.7459 - val_loss: 0.4970\n",
            "Epoch 2/20\n",
            "\u001b[1m471/471\u001b[0m \u001b[32m━━━━━━━━━━━━━━━━━━━━\u001b[0m\u001b[37m\u001b[0m \u001b[1m16s\u001b[0m 35ms/step - accuracy: 0.7984 - loss: 0.4458 - val_accuracy: 0.8560 - val_loss: 0.3405\n",
            "Epoch 3/20\n",
            "\u001b[1m471/471\u001b[0m \u001b[32m━━━━━━━━━━━━━━━━━━━━\u001b[0m\u001b[37m\u001b[0m \u001b[1m16s\u001b[0m 34ms/step - accuracy: 0.8702 - loss: 0.3252 - val_accuracy: 0.8909 - val_loss: 0.2761\n",
            "Epoch 4/20\n",
            "\u001b[1m471/471\u001b[0m \u001b[32m━━━━━━━━━━━━━━━━━━━━\u001b[0m\u001b[37m\u001b[0m \u001b[1m24s\u001b[0m 42ms/step - accuracy: 0.8952 - loss: 0.2727 - val_accuracy: 0.9056 - val_loss: 0.2406\n",
            "Epoch 5/20\n",
            "\u001b[1m471/471\u001b[0m \u001b[32m━━━━━━━━━━━━━━━━━━━━\u001b[0m\u001b[37m\u001b[0m \u001b[1m17s\u001b[0m 35ms/step - accuracy: 0.9129 - loss: 0.2348 - val_accuracy: 0.9176 - val_loss: 0.2134\n",
            "Epoch 6/20\n",
            "\u001b[1m471/471\u001b[0m \u001b[32m━━━━━━━━━━━━━━━━━━━━\u001b[0m\u001b[37m\u001b[0m \u001b[1m18s\u001b[0m 38ms/step - accuracy: 0.9264 - loss: 0.2050 - val_accuracy: 0.9289 - val_loss: 0.1944\n",
            "Epoch 7/20\n",
            "\u001b[1m471/471\u001b[0m \u001b[32m━━━━━━━━━━━━━━━━━━━━\u001b[0m\u001b[37m\u001b[0m \u001b[1m18s\u001b[0m 34ms/step - accuracy: 0.9327 - loss: 0.1907 - val_accuracy: 0.9357 - val_loss: 0.1799\n",
            "Epoch 8/20\n",
            "\u001b[1m471/471\u001b[0m \u001b[32m━━━━━━━━━━━━━━━━━━━━\u001b[0m\u001b[37m\u001b[0m \u001b[1m22s\u001b[0m 37ms/step - accuracy: 0.9366 - loss: 0.1756 - val_accuracy: 0.9391 - val_loss: 0.1730\n",
            "Epoch 9/20\n",
            "\u001b[1m471/471\u001b[0m \u001b[32m━━━━━━━━━━━━━━━━━━━━\u001b[0m\u001b[37m\u001b[0m \u001b[1m19s\u001b[0m 34ms/step - accuracy: 0.9422 - loss: 0.1656 - val_accuracy: 0.9419 - val_loss: 0.1635\n",
            "Epoch 10/20\n",
            "\u001b[1m471/471\u001b[0m \u001b[32m━━━━━━━━━━━━━━━━━━━━\u001b[0m\u001b[37m\u001b[0m \u001b[1m22s\u001b[0m 36ms/step - accuracy: 0.9466 - loss: 0.1532 - val_accuracy: 0.9448 - val_loss: 0.1599\n",
            "Epoch 11/20\n",
            "\u001b[1m471/471\u001b[0m \u001b[32m━━━━━━━━━━━━━━━━━━━━\u001b[0m\u001b[37m\u001b[0m \u001b[1m19s\u001b[0m 34ms/step - accuracy: 0.9484 - loss: 0.1429 - val_accuracy: 0.9502 - val_loss: 0.1499\n",
            "Epoch 12/20\n",
            "\u001b[1m471/471\u001b[0m \u001b[32m━━━━━━━━━━━━━━━━━━━━\u001b[0m\u001b[37m\u001b[0m \u001b[1m21s\u001b[0m 35ms/step - accuracy: 0.9527 - loss: 0.1377 - val_accuracy: 0.9496 - val_loss: 0.1444\n",
            "Epoch 13/20\n",
            "\u001b[1m471/471\u001b[0m \u001b[32m━━━━━━━━━━━━━━━━━━━━\u001b[0m\u001b[37m\u001b[0m \u001b[1m18s\u001b[0m 39ms/step - accuracy: 0.9532 - loss: 0.1323 - val_accuracy: 0.9504 - val_loss: 0.1426\n",
            "Epoch 14/20\n",
            "\u001b[1m471/471\u001b[0m \u001b[32m━━━━━━━━━━━━━━━━━━━━\u001b[0m\u001b[37m\u001b[0m \u001b[1m18s\u001b[0m 34ms/step - accuracy: 0.9547 - loss: 0.1307 - val_accuracy: 0.9550 - val_loss: 0.1354\n",
            "Epoch 15/20\n",
            "\u001b[1m471/471\u001b[0m \u001b[32m━━━━━━━━━━━━━━━━━━━━\u001b[0m\u001b[37m\u001b[0m \u001b[1m16s\u001b[0m 34ms/step - accuracy: 0.9562 - loss: 0.1243 - val_accuracy: 0.9548 - val_loss: 0.1360\n",
            "Epoch 16/20\n",
            "\u001b[1m471/471\u001b[0m \u001b[32m━━━━━━━━━━━━━━━━━━━━\u001b[0m\u001b[37m\u001b[0m \u001b[1m21s\u001b[0m 35ms/step - accuracy: 0.9532 - loss: 0.1270 - val_accuracy: 0.9546 - val_loss: 0.1396\n",
            "Epoch 17/20\n",
            "\u001b[1m471/471\u001b[0m \u001b[32m━━━━━━━━━━━━━━━━━━━━\u001b[0m\u001b[37m\u001b[0m \u001b[1m20s\u001b[0m 34ms/step - accuracy: 0.9580 - loss: 0.1194 - val_accuracy: 0.9598 - val_loss: 0.1267\n",
            "Epoch 18/20\n",
            "\u001b[1m471/471\u001b[0m \u001b[32m━━━━━━━━━━━━━━━━━━━━\u001b[0m\u001b[37m\u001b[0m \u001b[1m21s\u001b[0m 34ms/step - accuracy: 0.9621 - loss: 0.1104 - val_accuracy: 0.9572 - val_loss: 0.1313\n",
            "Epoch 19/20\n",
            "\u001b[1m471/471\u001b[0m \u001b[32m━━━━━━━━━━━━━━━━━━━━\u001b[0m\u001b[37m\u001b[0m \u001b[1m22s\u001b[0m 37ms/step - accuracy: 0.9644 - loss: 0.1081 - val_accuracy: 0.9614 - val_loss: 0.1242\n",
            "Epoch 20/20\n",
            "\u001b[1m471/471\u001b[0m \u001b[32m━━━━━━━━━━━━━━━━━━━━\u001b[0m\u001b[37m\u001b[0m \u001b[1m20s\u001b[0m 37ms/step - accuracy: 0.9629 - loss: 0.1093 - val_accuracy: 0.9626 - val_loss: 0.1242\n",
            "---------partition_data-----------\n",
            "---------reduce_matrix-----------\n",
            "\n",
            "### testing with (0, 1, 15, 16, 17), 2936 inputs\n",
            "\u001b[1m92/92\u001b[0m \u001b[32m━━━━━━━━━━━━━━━━━━━━\u001b[0m\u001b[37m\u001b[0m \u001b[1m1s\u001b[0m 8ms/step - accuracy: 0.8767 - loss: 0.3350\n"
          ]
        }
      ],
      "source": [
        "\n",
        "model, x_data_test, y_data_test, test_acc = train_session(save_model = False, earlystop = 0,method = 'pca')  # returned variables can be optionally used by other blocks of code"
      ]
    },
    {
      "cell_type": "code",
      "execution_count": 19,
      "metadata": {
        "colab": {
          "base_uri": "https://localhost:8080/"
        },
        "outputId": "5e626099-fe29-4ecb-e07b-b032fd15f06b",
        "id": "mpLLdEv7iww2"
      },
      "outputs": [
        {
          "output_type": "stream",
          "name": "stdout",
          "text": [
            "### testing with 2936 inputs\n",
            "\u001b[1m92/92\u001b[0m \u001b[32m━━━━━━━━━━━━━━━━━━━━\u001b[0m\u001b[37m\u001b[0m \u001b[1m1s\u001b[0m 8ms/step - accuracy: 0.8767 - loss: 0.3350\n"
          ]
        }
      ],
      "source": [
        "# model test only\n",
        "# if False and __name__ == '__main__':\n",
        "print(f'### testing with {len(x_data_test)} inputs')\n",
        "eval_metrics = model.evaluate(x_data_test, y_data_test)\n"
      ]
    },
    {
      "cell_type": "code",
      "execution_count": 20,
      "metadata": {
        "colab": {
          "base_uri": "https://localhost:8080/",
          "height": 524
        },
        "outputId": "034b70c3-e3ab-41d1-8241-6d0bdfbacb3d",
        "id": "aq56UMcFiww2"
      },
      "outputs": [
        {
          "output_type": "stream",
          "name": "stdout",
          "text": [
            "\u001b[1m92/92\u001b[0m \u001b[32m━━━━━━━━━━━━━━━━━━━━\u001b[0m\u001b[37m\u001b[0m \u001b[1m2s\u001b[0m 16ms/step\n"
          ]
        },
        {
          "output_type": "display_data",
          "data": {
            "text/plain": [
              "<Figure size 500x500 with 2 Axes>"
            ],
            "image/png": "[encoded data removed]"
          },
          "metadata": {}
        }
      ],
      "source": [
        "# # create confusion matrix\n",
        "# if False and __name__ == '__main__':\n",
        "import pandas as pd\n",
        "import seaborn\n",
        "y_pred = np.argmax(model.predict(x_data_test), axis=-1)\n",
        "con_mat = tf.math.confusion_matrix(labels = y_data_test, predictions = y_pred).numpy()\n",
        "con_mat_norm = np.around(con_mat.astype('float') / con_mat.sum(axis = 1)[:, np.newaxis], decimals = 2)\n",
        "classes = ['N', 'AD']\n",
        "con_mat_df = pd.DataFrame(con_mat_norm, index = classes, columns = classes)\n",
        "figure = plt.figure(figsize = (5, 5))\n",
        "seaborn.heatmap(con_mat_df, annot = True, cmap = plt.cm.Blues)\n",
        "plt.tight_layout()\n",
        "plt.ylabel('True label')\n",
        "plt.xlabel('Predicted label')\n",
        "plt.tight_layout()\n",
        "plt.savefig(working_dir + '/confusion_matrix_withoutRPCA.png', dpi = 600)\n",
        "plt.show()"
      ]
    },
    {
      "cell_type": "markdown",
      "metadata": {
        "id": "Gt1qZ0mZ81lH"
      },
      "source": [
        "# With ICA"
      ]
    },
    {
      "cell_type": "code",
      "execution_count": 21,
      "metadata": {
        "colab": {
          "base_uri": "https://localhost:8080/"
        },
        "id": "7QbV71jUwRtZ",
        "outputId": "e35450bb-6179-498b-8d97-03acc1b483fe"
      },
      "outputs": [
        {
          "output_type": "stream",
          "name": "stdout",
          "text": [
            "(('01', 'N'), ('02', 'N'), ('03', 'N'), ('04', 'N'), ('05', 'N'), ('06', 'N'), ('07', 'N'), ('08', 'N'), ('09', 'N'), ('10', 'N'), ('11', 'N'), ('12', 'N'), ('13', 'N'), ('14', 'N'), ('15', 'N'), ('01', 'AD'), ('02', 'AD'), ('03', 'AD'), ('04', 'AD'), ('05', 'AD'), ('06', 'AD'), ('07', 'AD'), ('08', 'AD'), ('09', 'AD'), ('10', 'AD'), ('11', 'AD'), ('12', 'AD'), ('13', 'AD'), ('14', 'AD'), ('15', 'AD'), ('16', 'AD'), ('17', 'AD'), ('18', 'AD'), ('19', 'AD'), ('20', 'AD'))\n",
            "\n",
            "### creating dataset\n",
            "Subject: ('01', 'N'), EEG shape: (111232, 16)\n",
            "Subject: ('02', 'N'), EEG shape: (97280, 16)\n",
            "Subject: ('03', 'N'), EEG shape: (94720, 16)\n",
            "Subject: ('04', 'N'), EEG shape: (199808, 16)\n",
            "Subject: ('05', 'N'), EEG shape: (145920, 16)\n",
            "Subject: ('06', 'N'), EEG shape: (116608, 16)\n",
            "Subject: ('07', 'N'), EEG shape: (160896, 16)\n",
            "Subject: ('08', 'N'), EEG shape: (240640, 16)\n",
            "Subject: ('09', 'N'), EEG shape: (200064, 16)\n",
            "Subject: ('10', 'N'), EEG shape: (145536, 16)\n",
            "Subject: ('11', 'N'), EEG shape: (144768, 16)\n",
            "Subject: ('12', 'N'), EEG shape: (139264, 16)\n",
            "Subject: ('13', 'N'), EEG shape: (142080, 16)\n",
            "Subject: ('14', 'N'), EEG shape: (191872, 16)\n",
            "Subject: ('15', 'N'), EEG shape: (164608, 16)\n",
            "Subject: ('01', 'AD'), EEG shape: (177280, 16)\n",
            "Subject: ('02', 'AD'), EEG shape: (183168, 16)\n",
            "Subject: ('03', 'AD'), EEG shape: (184448, 16)\n",
            "Subject: ('04', 'AD'), EEG shape: (195328, 16)\n",
            "Subject: ('05', 'AD'), EEG shape: (170240, 16)\n",
            "Subject: ('06', 'AD'), EEG shape: (190976, 16)\n",
            "Subject: ('07', 'AD'), EEG shape: (201600, 16)\n",
            "Subject: ('08', 'AD'), EEG shape: (212864, 16)\n",
            "Subject: ('09', 'AD'), EEG shape: (172544, 16)\n",
            "Subject: ('10', 'AD'), EEG shape: (188416, 16)\n",
            "Subject: ('11', 'AD'), EEG shape: (204416, 16)\n",
            "Subject: ('12', 'AD'), EEG shape: (146432, 16)\n",
            "Subject: ('13', 'AD'), EEG shape: (143616, 16)\n",
            "Subject: ('14', 'AD'), EEG shape: (197120, 16)\n",
            "Subject: ('15', 'AD'), EEG shape: (183936, 16)\n",
            "Subject: ('16', 'AD'), EEG shape: (170112, 16)\n",
            "Subject: ('17', 'AD'), EEG shape: (197760, 16)\n",
            "Subject: ('18', 'AD'), EEG shape: (147840, 16)\n",
            "Subject: ('19', 'AD'), EEG shape: (149120, 16)\n",
            "Subject: ('20', 'AD'), EEG shape: (241792, 16)\n",
            "\n",
            "tot samples: 5954304\n",
            "x_data: (23214, 512, 16)\n",
            "y_data: (23214, 1)\n",
            "windows per subject: [433, 379, 369, 779, 569, 454, 627, 939, 780, 567, 564, 543, 554, 748, 642, 691, 714, 719, 762, 664, 745, 786, 830, 673, 735, 797, 571, 560, 769, 717, 663, 771, 576, 581, 943]\n",
            "class distribution: [8947, 14267]\n"
          ]
        }
      ],
      "source": [
        "\n",
        "\"\"\"---\n",
        "**Start of actual program blocks:**\n",
        "\"\"\"\n",
        "\n",
        "# create dataset, create model, train and test\n",
        "# if __name__ == '__main__':\n",
        "dense1 = 0\n",
        "lstm1 = 8\n",
        "lstm2 = 8\n",
        "lstm3 = 0\n",
        "method = 'ica'\n",
        "window = 512\n",
        "overlap = window // 2\n",
        "oversample = True\n",
        "decimation = 0\n",
        "pca = True  # compute PCA on full data matrix\n",
        "rpca = True  # compute RPCA before PCA\n",
        "spikes = 1/500\n",
        "rpca_mu = 0.1\n",
        "train_split = 0.75\n",
        "subjs_train_perm = ( (tuple(i for i in range(2, 15)) + tuple(i for i in range(18, 32)), ()), )\n",
        "# subjs_train_perm = ( (tuple(i for i in range(2, 15)) + tuple(i for i in range(18, 35)), ()), )\n",
        "subjs_test = (0, 1, 15, 16, 17)  # 2 for N, 3 for AD\n",
        "\n",
        "x_data, y_data, subj_inputs = create_dataset(window, overlap, decimation)\n",
        "\n"
      ]
    },
    {
      "cell_type": "code",
      "execution_count": 22,
      "metadata": {
        "colab": {
          "base_uri": "https://localhost:8080/",
          "height": 1000
        },
        "id": "rAIBw4UwzVF6",
        "outputId": "aa651acb-3cc5-4ec6-8140-679ec93049c3"
      },
      "outputs": [
        {
          "output_type": "stream",
          "name": "stdout",
          "text": [
            "---------partition_data-----------\n",
            "---------partition_data-----------\n",
            "\n",
            "class distribution (training subset): [8135, 10043]\n",
            "---------oversampling-----------\n",
            "After oversampling (training subset):\n",
            "x_data_train: (20086, 512, 16)\n",
            "y_data_train: (20086, 1)\n",
            "class distribution: [10043, 10043]\n",
            "---------reduce_matrix-----------\n",
            "Performing ICA...\n"
          ]
        },
        {
          "output_type": "stream",
          "name": "stderr",
          "text": [
            "/usr/local/lib/python3.10/dist-packages/sklearn/decomposition/_fastica.py:128: ConvergenceWarning: FastICA did not converge. Consider increasing tolerance or the maximum number of iterations.\n",
            "  warnings.warn(\n"
          ]
        },
        {
          "output_type": "stream",
          "name": "stdout",
          "text": [
            "ICA components: (512, 50)\n",
            "---------reduce_matrix-----------\n",
            "x_data_train: (15064, 50, 16)\n",
            "y_data_train: (15064, 1) [7573, 7491]\n",
            "x_data_val: (5022, 50, 16)\n",
            "y_data_val: (5022, 1) [2470, 2552]\n",
            "\n",
            "### creating model\n"
          ]
        },
        {
          "output_type": "display_data",
          "data": {
            "text/plain": [
              "\u001b[1mModel: \"sequential_2\"\u001b[0m\n"
            ],
            "text/html": [
              "<pre style=\"white-space:pre;overflow-x:auto;line-height:normal;font-family:Menlo,'DejaVu Sans Mono',consolas,'Courier New',monospace\"><span style=\"font-weight: bold\">Model: \"sequential_2\"</span>\n",
              "</pre>\n"
            ]
          },
          "metadata": {}
        },
        {
          "output_type": "display_data",
          "data": {
            "text/plain": [
              "┏━━━━━━━━━━━━━━━━━━━━━━━━━━━━━━━━━━━━━━┳━━━━━━━━━━━━━━━━━━━━━━━━━━━━━┳━━━━━━━━━━━━━━━━━┓\n",
              "┃\u001b[1m \u001b[0m\u001b[1mLayer (type)                        \u001b[0m\u001b[1m \u001b[0m┃\u001b[1m \u001b[0m\u001b[1mOutput Shape               \u001b[0m\u001b[1m \u001b[0m┃\u001b[1m \u001b[0m\u001b[1m        Param #\u001b[0m\u001b[1m \u001b[0m┃\n",
              "┡━━━━━━━━━━━━━━━━━━━━━━━━━━━━━━━━━━━━━━╇━━━━━━━━━━━━━━━━━━━━━━━━━━━━━╇━━━━━━━━━━━━━━━━━┩\n",
              "│ lstm1 (\u001b[38;5;33mLSTM\u001b[0m)                         │ (\u001b[38;5;45mNone\u001b[0m, \u001b[38;5;34m50\u001b[0m, \u001b[38;5;34m8\u001b[0m)               │             \u001b[38;5;34m800\u001b[0m │\n",
              "├──────────────────────────────────────┼─────────────────────────────┼─────────────────┤\n",
              "│ drop2 (\u001b[38;5;33mDropout\u001b[0m)                      │ (\u001b[38;5;45mNone\u001b[0m, \u001b[38;5;34m50\u001b[0m, \u001b[38;5;34m8\u001b[0m)               │               \u001b[38;5;34m0\u001b[0m │\n",
              "├──────────────────────────────────────┼─────────────────────────────┼─────────────────┤\n",
              "│ lstm2 (\u001b[38;5;33mLSTM\u001b[0m)                         │ (\u001b[38;5;45mNone\u001b[0m, \u001b[38;5;34m8\u001b[0m)                   │             \u001b[38;5;34m544\u001b[0m │\n",
              "├──────────────────────────────────────┼─────────────────────────────┼─────────────────┤\n",
              "│ drop3 (\u001b[38;5;33mDropout\u001b[0m)                      │ (\u001b[38;5;45mNone\u001b[0m, \u001b[38;5;34m8\u001b[0m)                   │               \u001b[38;5;34m0\u001b[0m │\n",
              "├──────────────────────────────────────┼─────────────────────────────┼─────────────────┤\n",
              "│ dense2 (\u001b[38;5;33mDense\u001b[0m)                       │ (\u001b[38;5;45mNone\u001b[0m, \u001b[38;5;34m2\u001b[0m)                   │              \u001b[38;5;34m18\u001b[0m │\n",
              "└──────────────────────────────────────┴─────────────────────────────┴─────────────────┘\n"
            ],
            "text/html": [
              "<pre style=\"white-space:pre;overflow-x:auto;line-height:normal;font-family:Menlo,'DejaVu Sans Mono',consolas,'Courier New',monospace\">┏━━━━━━━━━━━━━━━━━━━━━━━━━━━━━━━━━━━━━━┳━━━━━━━━━━━━━━━━━━━━━━━━━━━━━┳━━━━━━━━━━━━━━━━━┓\n",
              "┃<span style=\"font-weight: bold\"> Layer (type)                         </span>┃<span style=\"font-weight: bold\"> Output Shape                </span>┃<span style=\"font-weight: bold\">         Param # </span>┃\n",
              "┡━━━━━━━━━━━━━━━━━━━━━━━━━━━━━━━━━━━━━━╇━━━━━━━━━━━━━━━━━━━━━━━━━━━━━╇━━━━━━━━━━━━━━━━━┩\n",
              "│ lstm1 (<span style=\"color: #0087ff; text-decoration-color: #0087ff\">LSTM</span>)                         │ (<span style=\"color: #00d7ff; text-decoration-color: #00d7ff\">None</span>, <span style=\"color: #00af00; text-decoration-color: #00af00\">50</span>, <span style=\"color: #00af00; text-decoration-color: #00af00\">8</span>)               │             <span style=\"color: #00af00; text-decoration-color: #00af00\">800</span> │\n",
              "├──────────────────────────────────────┼─────────────────────────────┼─────────────────┤\n",
              "│ drop2 (<span style=\"color: #0087ff; text-decoration-color: #0087ff\">Dropout</span>)                      │ (<span style=\"color: #00d7ff; text-decoration-color: #00d7ff\">None</span>, <span style=\"color: #00af00; text-decoration-color: #00af00\">50</span>, <span style=\"color: #00af00; text-decoration-color: #00af00\">8</span>)               │               <span style=\"color: #00af00; text-decoration-color: #00af00\">0</span> │\n",
              "├──────────────────────────────────────┼─────────────────────────────┼─────────────────┤\n",
              "│ lstm2 (<span style=\"color: #0087ff; text-decoration-color: #0087ff\">LSTM</span>)                         │ (<span style=\"color: #00d7ff; text-decoration-color: #00d7ff\">None</span>, <span style=\"color: #00af00; text-decoration-color: #00af00\">8</span>)                   │             <span style=\"color: #00af00; text-decoration-color: #00af00\">544</span> │\n",
              "├──────────────────────────────────────┼─────────────────────────────┼─────────────────┤\n",
              "│ drop3 (<span style=\"color: #0087ff; text-decoration-color: #0087ff\">Dropout</span>)                      │ (<span style=\"color: #00d7ff; text-decoration-color: #00d7ff\">None</span>, <span style=\"color: #00af00; text-decoration-color: #00af00\">8</span>)                   │               <span style=\"color: #00af00; text-decoration-color: #00af00\">0</span> │\n",
              "├──────────────────────────────────────┼─────────────────────────────┼─────────────────┤\n",
              "│ dense2 (<span style=\"color: #0087ff; text-decoration-color: #0087ff\">Dense</span>)                       │ (<span style=\"color: #00d7ff; text-decoration-color: #00d7ff\">None</span>, <span style=\"color: #00af00; text-decoration-color: #00af00\">2</span>)                   │              <span style=\"color: #00af00; text-decoration-color: #00af00\">18</span> │\n",
              "└──────────────────────────────────────┴─────────────────────────────┴─────────────────┘\n",
              "</pre>\n"
            ]
          },
          "metadata": {}
        },
        {
          "output_type": "display_data",
          "data": {
            "text/plain": [
              "\u001b[1m Total params: \u001b[0m\u001b[38;5;34m1,362\u001b[0m (5.32 KB)\n"
            ],
            "text/html": [
              "<pre style=\"white-space:pre;overflow-x:auto;line-height:normal;font-family:Menlo,'DejaVu Sans Mono',consolas,'Courier New',monospace\"><span style=\"font-weight: bold\"> Total params: </span><span style=\"color: #00af00; text-decoration-color: #00af00\">1,362</span> (5.32 KB)\n",
              "</pre>\n"
            ]
          },
          "metadata": {}
        },
        {
          "output_type": "display_data",
          "data": {
            "text/plain": [
              "\u001b[1m Trainable params: \u001b[0m\u001b[38;5;34m1,362\u001b[0m (5.32 KB)\n"
            ],
            "text/html": [
              "<pre style=\"white-space:pre;overflow-x:auto;line-height:normal;font-family:Menlo,'DejaVu Sans Mono',consolas,'Courier New',monospace\"><span style=\"font-weight: bold\"> Trainable params: </span><span style=\"color: #00af00; text-decoration-color: #00af00\">1,362</span> (5.32 KB)\n",
              "</pre>\n"
            ]
          },
          "metadata": {}
        },
        {
          "output_type": "display_data",
          "data": {
            "text/plain": [
              "\u001b[1m Non-trainable params: \u001b[0m\u001b[38;5;34m0\u001b[0m (0.00 B)\n"
            ],
            "text/html": [
              "<pre style=\"white-space:pre;overflow-x:auto;line-height:normal;font-family:Menlo,'DejaVu Sans Mono',consolas,'Courier New',monospace\"><span style=\"font-weight: bold\"> Non-trainable params: </span><span style=\"color: #00af00; text-decoration-color: #00af00\">0</span> (0.00 B)\n",
              "</pre>\n"
            ]
          },
          "metadata": {}
        },
        {
          "output_type": "stream",
          "name": "stdout",
          "text": [
            "\n",
            "### training with (2, 3, 4, 5, 6, 7, 8, 9, 10, 11, 12, 13, 14, 18, 19, 20, 21, 22, 23, 24, 25, 26, 27, 28, 29, 30, 31), 15064 inputs, 5022 validation\n",
            "Epoch 1/20\n",
            "\u001b[1m471/471\u001b[0m \u001b[32m━━━━━━━━━━━━━━━━━━━━\u001b[0m\u001b[37m\u001b[0m \u001b[1m20s\u001b[0m 36ms/step - accuracy: 0.6533 - loss: 0.6058 - val_accuracy: 0.8596 - val_loss: 0.3422\n",
            "Epoch 2/20\n",
            "\u001b[1m471/471\u001b[0m \u001b[32m━━━━━━━━━━━━━━━━━━━━\u001b[0m\u001b[37m\u001b[0m \u001b[1m16s\u001b[0m 34ms/step - accuracy: 0.8722 - loss: 0.3189 - val_accuracy: 0.8903 - val_loss: 0.2677\n",
            "Epoch 3/20\n",
            "\u001b[1m471/471\u001b[0m \u001b[32m━━━━━━━━━━━━━━━━━━━━\u001b[0m\u001b[37m\u001b[0m \u001b[1m17s\u001b[0m 35ms/step - accuracy: 0.9028 - loss: 0.2529 - val_accuracy: 0.9092 - val_loss: 0.2296\n",
            "Epoch 4/20\n",
            "\u001b[1m471/471\u001b[0m \u001b[32m━━━━━━━━━━━━━━━━━━━━\u001b[0m\u001b[37m\u001b[0m \u001b[1m20s\u001b[0m 35ms/step - accuracy: 0.9142 - loss: 0.2176 - val_accuracy: 0.9186 - val_loss: 0.2050\n",
            "Epoch 5/20\n",
            "\u001b[1m471/471\u001b[0m \u001b[32m━━━━━━━━━━━━━━━━━━━━\u001b[0m\u001b[37m\u001b[0m \u001b[1m16s\u001b[0m 34ms/step - accuracy: 0.9268 - loss: 0.1882 - val_accuracy: 0.9249 - val_loss: 0.1934\n",
            "Epoch 6/20\n",
            "\u001b[1m471/471\u001b[0m \u001b[32m━━━━━━━━━━━━━━━━━━━━\u001b[0m\u001b[37m\u001b[0m \u001b[1m21s\u001b[0m 35ms/step - accuracy: 0.9319 - loss: 0.1745 - val_accuracy: 0.9275 - val_loss: 0.1794\n",
            "Epoch 7/20\n",
            "\u001b[1m471/471\u001b[0m \u001b[32m━━━━━━━━━━━━━━━━━━━━\u001b[0m\u001b[37m\u001b[0m \u001b[1m16s\u001b[0m 34ms/step - accuracy: 0.9403 - loss: 0.1573 - val_accuracy: 0.9301 - val_loss: 0.1671\n",
            "Epoch 8/20\n",
            "\u001b[1m471/471\u001b[0m \u001b[32m━━━━━━━━━━━━━━━━━━━━\u001b[0m\u001b[37m\u001b[0m \u001b[1m22s\u001b[0m 38ms/step - accuracy: 0.9427 - loss: 0.1507 - val_accuracy: 0.9335 - val_loss: 0.1620\n",
            "Epoch 9/20\n",
            "\u001b[1m471/471\u001b[0m \u001b[32m━━━━━━━━━━━━━━━━━━━━\u001b[0m\u001b[37m\u001b[0m \u001b[1m19s\u001b[0m 35ms/step - accuracy: 0.9490 - loss: 0.1388 - val_accuracy: 0.9367 - val_loss: 0.1534\n",
            "Epoch 10/20\n",
            "\u001b[1m471/471\u001b[0m \u001b[32m━━━━━━━━━━━━━━━━━━━━\u001b[0m\u001b[37m\u001b[0m \u001b[1m16s\u001b[0m 35ms/step - accuracy: 0.9486 - loss: 0.1305 - val_accuracy: 0.9421 - val_loss: 0.1507\n",
            "Epoch 11/20\n",
            "\u001b[1m471/471\u001b[0m \u001b[32m━━━━━━━━━━━━━━━━━━━━\u001b[0m\u001b[37m\u001b[0m \u001b[1m21s\u001b[0m 36ms/step - accuracy: 0.9522 - loss: 0.1263 - val_accuracy: 0.9417 - val_loss: 0.1509\n",
            "Epoch 12/20\n",
            "\u001b[1m471/471\u001b[0m \u001b[32m━━━━━━━━━━━━━━━━━━━━\u001b[0m\u001b[37m\u001b[0m \u001b[1m16s\u001b[0m 34ms/step - accuracy: 0.9542 - loss: 0.1186 - val_accuracy: 0.9458 - val_loss: 0.1422\n",
            "Epoch 13/20\n",
            "\u001b[1m471/471\u001b[0m \u001b[32m━━━━━━━━━━━━━━━━━━━━\u001b[0m\u001b[37m\u001b[0m \u001b[1m16s\u001b[0m 35ms/step - accuracy: 0.9551 - loss: 0.1155 - val_accuracy: 0.9456 - val_loss: 0.1426\n",
            "Epoch 14/20\n",
            "\u001b[1m471/471\u001b[0m \u001b[32m━━━━━━━━━━━━━━━━━━━━\u001b[0m\u001b[37m\u001b[0m \u001b[1m21s\u001b[0m 36ms/step - accuracy: 0.9601 - loss: 0.1091 - val_accuracy: 0.9472 - val_loss: 0.1396\n",
            "Epoch 15/20\n",
            "\u001b[1m471/471\u001b[0m \u001b[32m━━━━━━━━━━━━━━━━━━━━\u001b[0m\u001b[37m\u001b[0m \u001b[1m19s\u001b[0m 34ms/step - accuracy: 0.9578 - loss: 0.1091 - val_accuracy: 0.9506 - val_loss: 0.1307\n",
            "Epoch 16/20\n",
            "\u001b[1m471/471\u001b[0m \u001b[32m━━━━━━━━━━━━━━━━━━━━\u001b[0m\u001b[37m\u001b[0m \u001b[1m22s\u001b[0m 37ms/step - accuracy: 0.9620 - loss: 0.1019 - val_accuracy: 0.9498 - val_loss: 0.1283\n",
            "Epoch 17/20\n",
            "\u001b[1m471/471\u001b[0m \u001b[32m━━━━━━━━━━━━━━━━━━━━\u001b[0m\u001b[37m\u001b[0m \u001b[1m20s\u001b[0m 35ms/step - accuracy: 0.9610 - loss: 0.1014 - val_accuracy: 0.9520 - val_loss: 0.1318\n",
            "Epoch 18/20\n",
            "\u001b[1m471/471\u001b[0m \u001b[32m━━━━━━━━━━━━━━━━━━━━\u001b[0m\u001b[37m\u001b[0m \u001b[1m22s\u001b[0m 38ms/step - accuracy: 0.9625 - loss: 0.0981 - val_accuracy: 0.9502 - val_loss: 0.1252\n",
            "Epoch 19/20\n",
            "\u001b[1m471/471\u001b[0m \u001b[32m━━━━━━━━━━━━━━━━━━━━\u001b[0m\u001b[37m\u001b[0m \u001b[1m19s\u001b[0m 35ms/step - accuracy: 0.9653 - loss: 0.0956 - val_accuracy: 0.9526 - val_loss: 0.1241\n",
            "Epoch 20/20\n",
            "\u001b[1m471/471\u001b[0m \u001b[32m━━━━━━━━━━━━━━━━━━━━\u001b[0m\u001b[37m\u001b[0m \u001b[1m22s\u001b[0m 39ms/step - accuracy: 0.9642 - loss: 0.0930 - val_accuracy: 0.9518 - val_loss: 0.1244\n",
            "---------partition_data-----------\n",
            "---------reduce_matrix-----------\n",
            "\n",
            "### testing with (0, 1, 15, 16, 17), 2936 inputs\n",
            "\u001b[1m92/92\u001b[0m \u001b[32m━━━━━━━━━━━━━━━━━━━━\u001b[0m\u001b[37m\u001b[0m \u001b[1m1s\u001b[0m 8ms/step - accuracy: 0.3635 - loss: 2.8338\n"
          ]
        }
      ],
      "source": [
        "epochs = 20\n",
        "model, x_data_test, y_data_test, test_acc = train_session(save_model = False, earlystop = 0, method = 'ica')  # returned variables can be optionally used by other blocks of code"
      ]
    },
    {
      "cell_type": "code",
      "execution_count": 23,
      "metadata": {
        "colab": {
          "base_uri": "https://localhost:8080/"
        },
        "id": "I2DndfcMwfLF",
        "outputId": "482d26dc-93fe-4da3-dd63-fa0a0f47da5f"
      },
      "outputs": [
        {
          "output_type": "stream",
          "name": "stdout",
          "text": [
            "### testing with 2936 inputs\n",
            "\u001b[1m92/92\u001b[0m \u001b[32m━━━━━━━━━━━━━━━━━━━━\u001b[0m\u001b[37m\u001b[0m \u001b[1m1s\u001b[0m 8ms/step - accuracy: 0.3635 - loss: 2.8338\n"
          ]
        }
      ],
      "source": [
        "# model test only\n",
        "# if False and __name__ == '__main__':\n",
        "print(f'### testing with {len(x_data_test)} inputs')\n",
        "eval_metrics = model.evaluate(x_data_test, y_data_test)\n"
      ]
    },
    {
      "cell_type": "code",
      "execution_count": 24,
      "metadata": {
        "colab": {
          "base_uri": "https://localhost:8080/",
          "height": 524
        },
        "id": "RaDRLf3CweU0",
        "outputId": "7d7d4789-d3e6-4bf0-9ed0-6924c161f354"
      },
      "outputs": [
        {
          "output_type": "stream",
          "name": "stdout",
          "text": [
            "\u001b[1m92/92\u001b[0m \u001b[32m━━━━━━━━━━━━━━━━━━━━\u001b[0m\u001b[37m\u001b[0m \u001b[1m1s\u001b[0m 11ms/step\n"
          ]
        },
        {
          "output_type": "display_data",
          "data": {
            "text/plain": [
              "<Figure size 500x500 with 2 Axes>"
            ],
            "image/png": "[encoded data removed]"
          },
          "metadata": {}
        }
      ],
      "source": [
        "# # create confusion matrix\n",
        "# if False and __name__ == '__main__':\n",
        "import pandas as pd\n",
        "import seaborn\n",
        "y_pred = np.argmax(model.predict(x_data_test), axis=-1)\n",
        "con_mat = tf.math.confusion_matrix(labels = y_data_test, predictions = y_pred).numpy()\n",
        "con_mat_norm = np.around(con_mat.astype('float') / con_mat.sum(axis = 1)[:, np.newaxis], decimals = 2)\n",
        "classes = ['N', 'AD']\n",
        "con_mat_df = pd.DataFrame(con_mat_norm, index = classes, columns = classes)\n",
        "figure = plt.figure(figsize = (5, 5))\n",
        "seaborn.heatmap(con_mat_df, annot = True, cmap = plt.cm.Blues)\n",
        "plt.tight_layout()\n",
        "plt.ylabel('True label')\n",
        "plt.xlabel('Predicted label')\n",
        "plt.tight_layout()\n",
        "plt.savefig(working_dir + '/confusion_matrix_ICA.png', dpi = 600)\n",
        "plt.show()"
      ]
    }
  ],
  "metadata": {
    "colab": {
      "gpuType": "T4",
      "provenance": [],
      "authorship_tag": "ABX9TyOHIfaBNPL46aPHS6LSteVy",
      "include_colab_link": true
    },
    "kernelspec": {
      "display_name": "Python 3",
      "name": "python3"
    },
    "language_info": {
      "name": "python"
    }
  },
  "nbformat": 4,
  "nbformat_minor": 0
}